{
  "nbformat": 4,
  "nbformat_minor": 0,
  "metadata": {
    "colab": {
      "provenance": [],
      "collapsed_sections": []
    },
    "kernelspec": {
      "name": "python3",
      "display_name": "Python 3"
    },
    "language_info": {
      "name": "python"
    }
  },
  "cells": [
    {
      "cell_type": "code",
      "execution_count": null,
      "metadata": {
        "colab": {
          "base_uri": "https://localhost:8080/"
        },
        "id": "3ximCYehWJkn",
        "outputId": "8b7b6c05-d725-4c05-b35c-63e34a3a2cd5"
      },
      "outputs": [
        {
          "output_type": "stream",
          "name": "stdout",
          "text": [
            "enter number:5\n",
            "odd\n"
          ]
        }
      ],
      "source": [
        "#1\n",
        "inp=int(input(\"enter number:\"))\n",
        "def even_cheaker(inp):\n",
        "  if inp%2==0:\n",
        "    print(\"even\")\n",
        "  else:\n",
        "    print('odd')  \n",
        "\n",
        "even_cheaker(inp)    "
      ]
    },
    {
      "cell_type": "code",
      "source": [
        "#2\n",
        "def fibonacci(x):\n",
        "  x=int(x)\n",
        "  a=0\n",
        "  b=1\n",
        "  print(a,b,end=' ')\n",
        "\n",
        "  while (a+b)<=x:\n",
        "    c=a+b\n",
        "    a=b\n",
        "    b=c\n",
        "    print(c,end=' ')\n",
        "\n",
        "fibonacci(5)"
      ],
      "metadata": {
        "colab": {
          "base_uri": "https://localhost:8080/"
        },
        "id": "-9VovWrGXO3O",
        "outputId": "22af6f53-e031-47ad-bb0a-dec1d244d27b"
      },
      "execution_count": null,
      "outputs": [
        {
          "output_type": "stream",
          "name": "stdout",
          "text": [
            "1 2 3 5 "
          ]
        }
      ]
    },
    {
      "cell_type": "code",
      "source": [
        "#3\n",
        "inp=int(input('Enter:'))\n",
        "def foo_moo(inp):\n",
        "\n",
        "  if inp%2==0:\n",
        "    return 'Foo'\n",
        "  elif inp%3==0:\n",
        "    return \"Moo\" \n",
        "  elif inp%2==0 and  inp%3==0 :\n",
        "    return \"FooMoo\"\n",
        "  else:\n",
        "    return 'Boo'\n",
        "\n",
        "foo_moo(inp)"
      ],
      "metadata": {
        "colab": {
          "base_uri": "https://localhost:8080/",
          "height": 53
        },
        "id": "mAVssFrVZr4P",
        "outputId": "e6a4ab6e-3c79-48b5-81a6-845f398799e5"
      },
      "execution_count": null,
      "outputs": [
        {
          "name": "stdout",
          "output_type": "stream",
          "text": [
            "Enter:2\n"
          ]
        },
        {
          "output_type": "execute_result",
          "data": {
            "text/plain": [
              "'Foo'"
            ],
            "application/vnd.google.colaboratory.intrinsic+json": {
              "type": "string"
            }
          },
          "metadata": {},
          "execution_count": 9
        }
      ]
    },
    {
      "cell_type": "code",
      "source": [
        "#4\n",
        "inp=input('Enter:')\n",
        "def function_name(inp):\n",
        "  upper=0\n",
        "  lower=0\n",
        "\n",
        "  for i in inp:\n",
        "    if i.isupper():\n",
        "      upper+=1\n",
        "    elif i.islower():\n",
        "      lower+=1\n",
        "\n",
        "  print(upper)\n",
        "  print(lower)\n",
        "\n",
        "function_name(inp)        \n",
        "\n",
        "\n",
        "\n"
      ],
      "metadata": {
        "colab": {
          "base_uri": "https://localhost:8080/"
        },
        "id": "jZRTj4b3aAn7",
        "outputId": "7490dc86-0023-4995-9889-284069bff8f6"
      },
      "execution_count": null,
      "outputs": [
        {
          "output_type": "stream",
          "name": "stdout",
          "text": [
            "Enter:The quick Sand Man\n",
            "3\n",
            "12\n"
          ]
        }
      ]
    },
    {
      "cell_type": "code",
      "source": [
        "\n",
        "#4etra\n",
        "def fn_nc(x):\n",
        "  upp=0\n",
        "  low=0\n",
        "  for i in x:\n",
        "   if \"A\"<=i<=\"Z\":\n",
        "     upp+=1\n",
        "   elif i==\" \":\n",
        "     pass\n",
        "   else:\n",
        "     low+=1\n",
        "  print(upp)\n",
        "  print(low)\n",
        "x=input()\n",
        "fn_nc(x)"
      ],
      "metadata": {
        "colab": {
          "base_uri": "https://localhost:8080/"
        },
        "id": "tva7tlXRIN2M",
        "outputId": "f1fe8dc8-174a-4d2d-8ca4-da9efd2b4499"
      },
      "execution_count": null,
      "outputs": [
        {
          "output_type": "stream",
          "name": "stdout",
          "text": [
            "HaRRy PotteR\n",
            "5\n",
            "6\n"
          ]
        }
      ]
    },
    {
      "cell_type": "code",
      "source": [
        "#5\n",
        "age=int(input())\n",
        "salary=float(input())\n",
        "designation=input()\n",
        "\n",
        "def calculate_tax(age,salary,designation):\n",
        "  tax=0\n",
        "  if age<18 or designation==\"president\" or salary<10000:\n",
        "    tax=0\n",
        "  elif salary>10000 and salary<20000:\n",
        "    tax=salary*(5/100)\n",
        "  elif salary >20000:\n",
        "    tax=salary*(10/100) \n",
        "\n",
        "  print(tax)   \n",
        "calculate_tax(age,salary,designation)\n",
        "\n",
        "\n",
        "\n",
        "\n",
        "\n",
        "#or\n",
        "\n",
        "\n"
      ],
      "metadata": {
        "colab": {
          "base_uri": "https://localhost:8080/"
        },
        "id": "m_VMzFmed425",
        "outputId": "18b5b46b-c142-4670-95ee-a1e6ddab2c3a"
      },
      "execution_count": null,
      "outputs": [
        {
          "output_type": "stream",
          "name": "stdout",
          "text": [
            "20\n",
            "18000\n",
            "am\n",
            "900.0\n"
          ]
        }
      ]
    },
    {
      "cell_type": "code",
      "source": [
        "#6\n",
        "inp=int(input())\n",
        "def function_name(inp):\n",
        "  years=inp//365\n",
        "  rem=inp%365\n",
        "  months=rem//30\n",
        "  days=rem%30\n",
        "\n",
        "  print(\"years:\",years,'months:',months,'days:',days)\n",
        "function_name(inp)\n"
      ],
      "metadata": {
        "colab": {
          "base_uri": "https://localhost:8080/"
        },
        "id": "t68qhdhBkX0D",
        "outputId": "993592e1-159c-4337-f867-8d1d4f595a9e"
      },
      "execution_count": null,
      "outputs": [
        {
          "output_type": "stream",
          "name": "stdout",
          "text": [
            "4330\n",
            "years: 11 months: 10 days: 15\n"
          ]
        }
      ]
    },
    {
      "cell_type": "code",
      "source": [
        "#7\n",
        "def show_palindrome(inp):\n",
        "  for i in range(1,inp+1):\n",
        "    a=print(i,end='')\n",
        "  for i in range(inp-1,0,-1):\n",
        "    b=print(i,end='')\n",
        "\n",
        "show_palindrome(5)\n",
        "\n",
        "\n",
        "\n",
        "\n"
      ],
      "metadata": {
        "colab": {
          "base_uri": "https://localhost:8080/"
        },
        "id": "IMpx4zrglzLQ",
        "outputId": "7c1be3d0-8bd0-4d42-8aff-eccc8e02f6fc"
      },
      "execution_count": null,
      "outputs": [
        {
          "output_type": "stream",
          "name": "stdout",
          "text": [
            "123454321"
          ]
        }
      ]
    },
    {
      "cell_type": "code",
      "source": [
        "#8\n"
      ],
      "metadata": {
        "id": "jBnL2MP5nozX"
      },
      "execution_count": null,
      "outputs": []
    },
    {
      "cell_type": "code",
      "source": [
        "#9\n",
        "def area_circumference_generator(inp):\n",
        "  import math\n",
        "  area=math.pi*inp**2\n",
        "  cir=2*math.pi*inp\n",
        "  a=(area,cir)\n",
        "  return a\n",
        "\n",
        "n= area_circumference_generator(inp)\n",
        "inp=int(input())  \n",
        "print(n)\n",
        "b,c=n\n",
        "print(f\"Area of the circle is {b} and circumference is {c}\") \n"
      ],
      "metadata": {
        "colab": {
          "base_uri": "https://localhost:8080/"
        },
        "id": "UZLZkxaYocgN",
        "outputId": "29c5884a-4d20-40a8-87b4-3c3608af2d9b"
      },
      "execution_count": null,
      "outputs": [
        {
          "output_type": "stream",
          "name": "stdout",
          "text": [
            "1\n",
            "(3.141592653589793, 6.283185307179586)\n",
            "Area of the circle is 3.141592653589793 and circumference is 6.283185307179586\n"
          ]
        }
      ]
    },
    {
      "cell_type": "code",
      "source": [
        "#10\n",
        "def make_square(a_tuple):\n",
        "  start,end=a_tuple\n",
        "  a_dict={}\n",
        "\n",
        "\n",
        "  for i in range(start,end+1):\n",
        "    key=i\n",
        "    value=i**2\n",
        "    a_dict[key]=value\n",
        "  return a_dict\n",
        "\n",
        "make_square((1,3))"
      ],
      "metadata": {
        "colab": {
          "base_uri": "https://localhost:8080/"
        },
        "id": "VgnHUkxdrtkV",
        "outputId": "fecbae5b-1fc7-4f15-b9a8-38fd37c431e3"
      },
      "execution_count": null,
      "outputs": [
        {
          "output_type": "execute_result",
          "data": {
            "text/plain": [
              "{1: 1, 2: 4, 3: 9}"
            ]
          },
          "metadata": {},
          "execution_count": 38
        }
      ]
    },
    {
      "cell_type": "code",
      "source": [
        "#11\n",
        "def rem_duplicate(a_tuple):\n",
        "  a_list=list(a_tuple)\n",
        "  new_list=[]\n",
        "\n",
        "\n",
        "  for i in a_list:\n",
        "    if i not in new_list:\n",
        "      new_list.append(i)\n",
        "\n",
        "\n",
        "  new_tuple=tuple(new_list)\n",
        "  return new_tuple\n",
        "\n",
        "rem_duplicate((1,1,1,1,2,2,2,2,2,3,3,3,3,3,4,4,4,4,4))"
      ],
      "metadata": {
        "colab": {
          "base_uri": "https://localhost:8080/"
        },
        "id": "QT5mKkpiu59i",
        "outputId": "9e7da9f0-b850-48b9-9ae6-810f1a672053"
      },
      "execution_count": null,
      "outputs": [
        {
          "output_type": "execute_result",
          "data": {
            "text/plain": [
              "(1, 2, 3, 4)"
            ]
          },
          "metadata": {},
          "execution_count": 43
        }
      ]
    },
    {
      "cell_type": "code",
      "source": [
        "#12\n",
        "def function_name(a_list):\n",
        "\n",
        "  new_list=[]\n",
        "  for i in a_list:\n",
        "    if new_list.count(i)<2:\n",
        "      new_list.append(i)\n",
        "  return new_list     \n",
        "\n",
        "function_name([1, 2, 3, 3, 3, 3, 4, 5, 8, 8])\n"
      ],
      "metadata": {
        "colab": {
          "base_uri": "https://localhost:8080/"
        },
        "id": "Ej-AquJ8xVeK",
        "outputId": "b8c28180-2042-4969-cf3d-de0533161746"
      },
      "execution_count": null,
      "outputs": [
        {
          "output_type": "execute_result",
          "data": {
            "text/plain": [
              "[1, 2, 3, 3, 4, 5, 8, 8]"
            ]
          },
          "metadata": {},
          "execution_count": 44
        }
      ]
    },
    {
      "cell_type": "code",
      "source": [
        "#13\n",
        "operator=input(\"op:\") \n",
        "first_num=int(input())\n",
        "second_num=int(input())\n",
        "\n",
        "def function_name(operator,first_num,Second_num):\n",
        "  if operator=='+':\n",
        "    result= first_num + second_num\n",
        "    return result\n",
        "  elif operator=='-':\n",
        "     result= first_num - second_num\n",
        "     return result   \n",
        "  elif operator=='*':\n",
        "     result= first_num * second_num\n",
        "     return result\n",
        "  elif operator=='/':\n",
        "     result= first_num / second_num\n",
        "     return result\n",
        "\n",
        "function_name(operator,first_num,second_num)     "
      ],
      "metadata": {
        "colab": {
          "base_uri": "https://localhost:8080/"
        },
        "id": "cDs0S9cZwJL3",
        "outputId": "4c4a5460-d4ac-4369-b423-664aec736b17"
      },
      "execution_count": null,
      "outputs": [
        {
          "name": "stdout",
          "output_type": "stream",
          "text": [
            "op:+\n",
            "1\n",
            "2\n"
          ]
        },
        {
          "output_type": "execute_result",
          "data": {
            "text/plain": [
              "3"
            ]
          },
          "metadata": {},
          "execution_count": 48
        }
      ]
    },
    {
      "cell_type": "code",
      "source": [
        "#14\n",
        "def function_name(words,pos):\n",
        "  new_word=''\n",
        "  first=words[0]\n",
        "  extra_word=''\n",
        "  final_word=''\n",
        "\n",
        "\n",
        "  for i in range(1,len(words)):\n",
        "    if i%pos !=0:\n",
        "      new_word=new_word+words[i]\n",
        "    else:\n",
        "      extra_word=extra_word+words[i]\n",
        "  final_word=first+new_word + extra_word\n",
        "  return final_word\n",
        "\n",
        "\n",
        "output=function_name(\"I love programming.\",3)\n",
        "print(output)\n",
        "\n",
        "\n",
        "\n",
        "\n",
        "\n",
        "\n",
        "\n",
        "\n",
        "\n",
        "\n"
      ],
      "metadata": {
        "colab": {
          "base_uri": "https://localhost:8080/"
        },
        "id": "l2Ov---o6qda",
        "outputId": "b874c3aa-5f06-463a-cef3-64599982394e"
      },
      "execution_count": null,
      "outputs": [
        {
          "output_type": "stream",
          "name": "stdout",
          "text": [
            "I lveprgrmmngo oai.\n"
          ]
        }
      ]
    },
    {
      "cell_type": "code",
      "source": [
        "#15\n"
      ],
      "metadata": {
        "id": "zqw-BSGJ9cHD"
      },
      "execution_count": null,
      "outputs": []
    }
  ]
}