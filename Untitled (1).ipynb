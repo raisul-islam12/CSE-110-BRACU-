{
 "cells": [
  {
   "cell_type": "code",
   "execution_count": 7,
   "metadata": {},
   "outputs": [
    {
     "name": "stdout",
     "output_type": "stream",
     "text": [
      "please,enter number one :9\n",
      "please,enter number two :5\n",
      "sum= 14\n",
      "product= 59049\n",
      "difference= 4\n"
     ]
    }
   ],
   "source": [
    "num1=int(input(\"please,enter number one :\"))\n",
    "num2=int(input(\"please,enter number two :\"))\n",
    "sum=num1+num2\n",
    "product= num1**num2\n",
    "diff=num1-num2\n",
    "print('sum=',sum)\n",
    "print('product=',product)\n",
    "print('difference=', diff)"
   ]
  },
  {
   "cell_type": "code",
   "execution_count": 13,
   "metadata": {},
   "outputs": [
    {
     "name": "stdout",
     "output_type": "stream",
     "text": [
      "please,enter radius :4\n",
      "area is: 50.26548245743669\n",
      "circumference is: 25.132741228718345\n"
     ]
    }
   ],
   "source": [
    "import math\n",
    "rad=float(input(\"please,enter radius :\"))\n",
    "area=math.pi*rad**2\n",
    "cir=2*math.pi*rad\n",
    "print('area is:', area)\n",
    "print('circumference is:',cir)"
   ]
  },
  {
   "cell_type": "code",
   "execution_count": 16,
   "metadata": {},
   "outputs": [
    {
     "name": "stdout",
     "output_type": "stream",
     "text": [
      "please,enter number one :3\n",
      "please,enter number two :3\n",
      "both are equal\n"
     ]
    }
   ],
   "source": [
    "num1=int(input(\"please,enter number one :\"))\n",
    "num2=int(input(\"please,enter number two :\"))\n",
    "\n",
    "if num1>num2:\n",
    "    print(\"first is greater\")\n",
    "elif num1<num2:\n",
    "    print(\"second is greater\")\n",
    "else:\n",
    "    print('both are equal')"
   ]
  },
  {
   "cell_type": "code",
   "execution_count": 4,
   "metadata": {},
   "outputs": [
    {
     "name": "stdout",
     "output_type": "stream",
     "text": [
      "please,enter number one :-40\n",
      "please,enter number two :-4\n",
      "36\n"
     ]
    }
   ],
   "source": [
    "num1=int(input(\"please,enter number one :\"))\n",
    "num2=int(input(\"please,enter number two :\"))\n",
    "if num1<num2 :\n",
    "    sub=num2-num1\n",
    "elif num1>num2 :\n",
    "    sub=num1-num2\n",
    "print(sub)"
   ]
  },
  {
   "cell_type": "code",
   "execution_count": 6,
   "metadata": {},
   "outputs": [
    {
     "name": "stdout",
     "output_type": "stream",
     "text": [
      "please,enter number  :10\n",
      "The number is even\n"
     ]
    }
   ],
   "source": [
    "num=int(input(\"please,enter number  :\"))\n",
    "if num%2==0:\n",
    "    print('The number is even')\n",
    "else:\n",
    "    print('The number is odd')\n",
    "    "
   ]
  },
  {
   "cell_type": "code",
   "execution_count": 9,
   "metadata": {},
   "outputs": [
    {
     "name": "stdout",
     "output_type": "stream",
     "text": [
      "please,enter number  :3\n",
      "Not a multiple of 2 or 5 \n"
     ]
    }
   ],
   "source": [
    "num=int(input(\"please,enter number  :\"))\n",
    "\n",
    "if num%2==0 or num%5==0:\n",
    "    print (num)\n",
    "else:\n",
    "    print('Not a multiple of 2 or 5 ')"
   ]
  },
  {
   "cell_type": "code",
   "execution_count": 14,
   "metadata": {},
   "outputs": [
    {
     "name": "stdout",
     "output_type": "stream",
     "text": [
      "please,enter number  :17\n",
      "not a multiple we want\n"
     ]
    }
   ],
   "source": [
    "num=int(input(\"please,enter number  :\"))\n",
    "\n",
    "if num%2==0 and num%5==0:\n",
    "    print ('multiple of  2 and 5 both')\n",
    "elif num%2==0 or num%5==0:\n",
    "    print(num)\n",
    "else:\n",
    "    print('not a multiple we want')    "
   ]
  },
  {
   "cell_type": "code",
   "execution_count": null,
   "metadata": {},
   "outputs": [],
   "source": [
    "num=int(input(\"please,enter number  :\"))\n",
    "\n",
    "if num%2==0 and num%5==0:\n",
    "    print (num)\n",
    "else:\n",
    "    print('not a multiple of 2 and 5 both')    \n",
    "    "
   ]
  },
  {
   "cell_type": "code",
   "execution_count": 4,
   "metadata": {},
   "outputs": [
    {
     "name": "stdout",
     "output_type": "stream",
     "text": [
      "please,enter second  :10000\n",
      "hours: 2 minute: 46 secound: 40\n"
     ]
    }
   ],
   "source": [
    "num=int(input(\"please,enter second  :\"))\n",
    "hours=num//3600\n",
    "rem1=num%3600\n",
    "minute=rem1//60\n",
    "second=rem1%60\n",
    "\n",
    "print('hours:',hours, 'minute:',minute, 'secound:',second )"
   ]
  },
  {
   "cell_type": "code",
   "execution_count": 8,
   "metadata": {},
   "outputs": [
    {
     "name": "stdout",
     "output_type": "stream",
     "text": [
      "input hours:170\n",
      "ipmossible to work more than 168 hours weekly\n"
     ]
    }
   ],
   "source": [
    "hours=int(input('input hours:'))\n",
    "if hours<0 :\n",
    "    \n",
    "    print ('hours cant be negetive')\n",
    "    \n",
    "elif  hours>168 :\n",
    "    \n",
    "    print('ipmossible to work more than 168 hours weekly')\n",
    "elif hours<=40 :\n",
    "    \n",
    "    \n",
    "    salary1 =hours * 200 \n",
    "    \n",
    "    print(salary1)\n",
    "elif hours>=40 :\n",
    "    \n",
    "    salaray2=8000+ (hours-40)*300\n",
    "    \n",
    "    print(salaray2)\n",
    "    "
   ]
  },
  {
   "cell_type": "code",
   "execution_count": 9,
   "metadata": {},
   "outputs": [
    {
     "name": "stdout",
     "output_type": "stream",
     "text": [
      "Enter:120\n",
      "2416.2162162162163\n"
     ]
    }
   ],
   "source": [
    "s=int(input('Enter:'))\n",
    "if s<100:\n",
    "    l=3000-125*s**2\n",
    "elif s>=100:\n",
    "    l=(12000)/(4+(s**2/14900))\n",
    "print(l)    "
   ]
  },
  {
   "cell_type": "code",
   "execution_count": null,
   "metadata": {},
   "outputs": [],
   "source": []
  },
  {
   "cell_type": "code",
   "execution_count": null,
   "metadata": {},
   "outputs": [],
   "source": []
  },
  {
   "cell_type": "code",
   "execution_count": null,
   "metadata": {},
   "outputs": [],
   "source": []
  }
 ],
 "metadata": {
  "kernelspec": {
   "display_name": "Python 3 (ipykernel)",
   "language": "python",
   "name": "python3"
  },
  "language_info": {
   "codemirror_mode": {
    "name": "ipython",
    "version": 3
   },
   "file_extension": ".py",
   "mimetype": "text/x-python",
   "name": "python",
   "nbconvert_exporter": "python",
   "pygments_lexer": "ipython3",
   "version": "3.9.7"
  }
 },
 "nbformat": 4,
 "nbformat_minor": 2
}
