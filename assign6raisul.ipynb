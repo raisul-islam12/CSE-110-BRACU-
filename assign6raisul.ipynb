{
  "nbformat": 4,
  "nbformat_minor": 0,
  "metadata": {
    "colab": {
      "provenance": [],
      "collapsed_sections": []
    },
    "kernelspec": {
      "name": "python3",
      "display_name": "Python 3"
    },
    "language_info": {
      "name": "python"
    }
  },
  "cells": [
    {
      "cell_type": "code",
      "source": [
        "a+b\n",
        "#1\n",
        "num=int(input(\"Enter a number to check odd or even: \"))\n",
        "def find_evenodd(num):\n",
        "    \n",
        "    if(num%2==0):\n",
        "        print(num,\" Is an even\")\n",
        "    else:\n",
        "        print(num,\" is an odd\")\n",
        "\n",
        "find_evenodd(num)"
      ],
      "metadata": {
        "colab": {
          "base_uri": "https://localhost:8080/"
        },
        "id": "mmpwzzuHbJC7",
        "outputId": "e45e0b3e-56b0-4ee6-ef26-1de80f38a553"
      },
      "execution_count": null,
      "outputs": [
        {
          "output_type": "stream",
          "name": "stdout",
          "text": [
            "Enter a number to check odd or even: 8\n",
            "8  Is an even\n"
          ]
        }
      ]
    },
    {
      "cell_type": "code",
      "source": [],
      "metadata": {
        "id": "HIJb6aMBujtE"
      },
      "execution_count": null,
      "outputs": []
    },
    {
      "cell_type": "code",
      "source": [
        "#2\n",
        "def fibonacci(x):\n",
        "  x= int(x)\n",
        "  a= 0\n",
        "  b= 1\n",
        "  print(a,b,end=\" \")\n",
        "  while (a+b)<=x:\n",
        "    c = a+b\n",
        "    print(c,end=\" \")\n",
        "    a= b\n",
        "    b= c\n",
        "    \n",
        "fibonacci(10)  \n",
        "\n"
      ],
      "metadata": {
        "id": "aXRHiAcCc6Ur",
        "colab": {
          "base_uri": "https://localhost:8080/"
        },
        "outputId": "99194513-d385-4937-c3b3-980241a09c4a"
      },
      "execution_count": null,
      "outputs": [
        {
          "output_type": "stream",
          "name": "stdout",
          "text": [
            "5\n",
            "0 1 1 2 3 5 "
          ]
        }
      ]
    },
    {
      "cell_type": "code",
      "source": [
        "#3\n",
        "inp=int(input('Enter:'))\n",
        "def foo_moo(inp):\n",
        "\n",
        "  if inp%2==0:\n",
        "    print('Foo')\n",
        "  elif inp%3==0:\n",
        "    print(\"Moo\") \n",
        "  elif inp%2==0 and  inp%3==0 :\n",
        "    print(\"FooMoo\")\n",
        "  else:\n",
        "    print('Boo')\n",
        "\n",
        "foo_moo(inp)\n"
      ],
      "metadata": {
        "colab": {
          "base_uri": "https://localhost:8080/"
        },
        "id": "ORnepghqc6X8",
        "outputId": "fe1504cb-b3bf-4227-8285-0523aaf91cff"
      },
      "execution_count": null,
      "outputs": [
        {
          "output_type": "stream",
          "name": "stdout",
          "text": [
            "Enter:5\n",
            "Boo\n"
          ]
        }
      ]
    },
    {
      "cell_type": "code",
      "source": [
        "#4\n",
        "inp=input('Enter:')\n",
        "def function_name(inp):\n",
        "  uppercase=0 \n",
        "  lowercase=0\n",
        "  for i in inp:\n",
        "      if i.isupper():\n",
        "          uppercase+=1\n",
        "      elif i.islower():\n",
        "          lowercase+=1\n",
        "\n",
        "\n",
        "  print('No. of Uppercase characters:',uppercase)\n",
        "  print('No. of Lowercase Characters:',lowercase)\n",
        "\n",
        "function_name(inp)    \n",
        "\n",
        "\n",
        "def function_name(z):\n",
        "  a= 0\n",
        "  b= 0\n",
        "  for i in z:\n",
        "    if chr(64)<=i<=chr(96):\n",
        "      a+= 1\n",
        "    elif chr(97)<= i<= chr(127):\n",
        "      b+= 1\n",
        "  print(\"No. of Uppercase characters :\",a) \n",
        "  print(\"No. of Uppercase characters :\",b)  \n",
        "function_name(\"The quick Sand Man\")  \n"
      ],
      "metadata": {
        "colab": {
          "base_uri": "https://localhost:8080/"
        },
        "id": "DBGy3dzQd7h7",
        "outputId": "f751dc7a-13af-4d76-e412-89abc1218156"
      },
      "execution_count": null,
      "outputs": [
        {
          "output_type": "stream",
          "name": "stdout",
          "text": [
            "Enter:HaRRy PotteR\n",
            "No. of Uppercase characters: 5\n",
            "No. of Lowercase Characters: 6\n"
          ]
        }
      ]
    },
    {
      "cell_type": "code",
      "source": [
        "0//2"
      ],
      "metadata": {
        "colab": {
          "base_uri": "https://localhost:8080/"
        },
        "id": "TX_HYvJLNYcd",
        "outputId": "414ea9f2-e6cc-4ad5-b56f-5dd5f28347c5"
      },
      "execution_count": null,
      "outputs": [
        {
          "output_type": "execute_result",
          "data": {
            "text/plain": [
              "0"
            ]
          },
          "metadata": {},
          "execution_count": 5
        }
      ]
    },
    {
      "cell_type": "code",
      "source": [
        "#5\n",
        "age=int(input('Enter age:'))\n",
        "salary=float(input('enter salary:'))\n",
        "designation=input('Enter designation:')\n",
        "\n",
        "def calculate_tax(age,salary,designation):\n",
        "  tax=0\n",
        "  if age<18 or designation == 'president' or salary<10000 :\n",
        "      tax=0\n",
        "  elif salary>=10000 and salary<=20000:\n",
        "      tax=salary*(5/100)\n",
        "  elif salary>20000:\n",
        "      tax=salary*(10/100)   \n",
        "  return tax \n",
        "\n",
        "calculate_tax(age,salary,designation)"
      ],
      "metadata": {
        "colab": {
          "base_uri": "https://localhost:8080/"
        },
        "id": "T0GZ-0MNhEYT",
        "outputId": "ec8ab806-65b5-4093-b102-1c5e973a347b"
      },
      "execution_count": null,
      "outputs": [
        {
          "name": "stdout",
          "output_type": "stream",
          "text": [
            "Enter age:20\n",
            "enter salary:18000\n",
            "Enter designation:nvcjyrd\n"
          ]
        },
        {
          "output_type": "execute_result",
          "data": {
            "text/plain": [
              "900.0"
            ]
          },
          "metadata": {},
          "execution_count": 42
        }
      ]
    },
    {
      "cell_type": "code",
      "source": [
        "#6\n",
        "inp=int(input('Enter:'))\n",
        "def number_of_days(inp):\n",
        "  years=inp//365\n",
        "  rem=inp%365\n",
        "  month=rem//30\n",
        "  days=rem%30\n",
        "\n",
        "  print(years,'years',month,'months',days,'days')\n",
        "number_of_days(inp)\n"
      ],
      "metadata": {
        "colab": {
          "base_uri": "https://localhost:8080/"
        },
        "id": "eTGlmXOwl3jz",
        "outputId": "b1929ae5-bb01-4276-88f1-057a1b229cd2"
      },
      "execution_count": null,
      "outputs": [
        {
          "output_type": "stream",
          "name": "stdout",
          "text": [
            "Enter:4330\n",
            "11 years 10 months 15 days\n"
          ]
        }
      ]
    },
    {
      "cell_type": "code",
      "source": [
        "#7\n",
        "def show_palindrome(inp):\n",
        "  for i in range(1,inp+1):\n",
        "    a=print(i,end='')\n",
        "  for i in range(inp-1,0,-1):\n",
        "    b=print(i,end='')\n",
        "\n",
        "show_palindrome(5)\n",
        "\n",
        "\n",
        "\n",
        "\n"
      ],
      "metadata": {
        "id": "I4aYn3751rhM",
        "outputId": "b76d57ba-b1f3-4c27-db75-abc830b88052",
        "colab": {
          "base_uri": "https://localhost:8080/"
        }
      },
      "execution_count": null,
      "outputs": [
        {
          "output_type": "stream",
          "name": "stdout",
          "text": [
            "123454321"
          ]
        }
      ]
    },
    {
      "cell_type": "code",
      "source": [
        "#8\n",
        "x= int(input())\n",
        "def show_palindrome_triangle(x):\n",
        "  def show_palindrome(y):\n",
        "    a=\"\"\n",
        "    for i in range(1,y+1):\n",
        "      a=a+str(i)+\" \"\n",
        "    for i in range(y-1,0,-1):\n",
        "      a= a+str(i)+\" \"\n",
        "    return a\n",
        "  for i in range(1,x+1):\n",
        "    print(\" \"*(x-i)*2,end=\"\")\n",
        "    print(show_palindrome(i))\n",
        "show_palindrome_triangle(x) \n"
      ],
      "metadata": {
        "id": "S-BwXcJ_2UcO",
        "colab": {
          "base_uri": "https://localhost:8080/"
        },
        "outputId": "3d83b358-c687-454d-c7fc-5eb9c86c9612"
      },
      "execution_count": null,
      "outputs": [
        {
          "output_type": "stream",
          "name": "stdout",
          "text": [
            "5\n",
            "        1 \n",
            "      1 2 1 \n",
            "    1 2 3 2 1 \n",
            "  1 2 3 4 3 2 1 \n",
            "1 2 3 4 5 4 3 2 1 \n"
          ]
        }
      ]
    },
    {
      "cell_type": "code",
      "source": [
        "#9\n",
        "def area_circumference_generator(r):\n",
        "  import math\n",
        "  x= 2 * math.pi * r\n",
        "  y= math.pi * r**2\n",
        "  a= (y,x) \n",
        "  return a \n",
        "n= area_circumference_generator(2.5) \n",
        "#area_circumference_generator(2.5) \n",
        "print(n)\n",
        "b,c= n\n",
        "print(f\"Area of the circle is {b} and circumference is {c}\") \n"
      ],
      "metadata": {
        "id": "_O4RBvv62hem",
        "colab": {
          "base_uri": "https://localhost:8080/"
        },
        "outputId": "cd018d26-35c5-4857-9013-df2e800b8050"
      },
      "execution_count": null,
      "outputs": [
        {
          "output_type": "stream",
          "name": "stdout",
          "text": [
            "(19.634954084936208, 15.707963267948966)\n",
            "Area of the circle is 19.634954084936208 and circumference is 15.707963267948966\n"
          ]
        }
      ]
    },
    {
      "cell_type": "code",
      "source": [],
      "metadata": {
        "id": "QfO6Tkfh2ir1"
      },
      "execution_count": null,
      "outputs": []
    },
    {
      "cell_type": "code",
      "source": [
        "#10\n",
        "def make_square(a_tuple):\n",
        "  start,end=a_tuple\n",
        "  a_dict={}\n",
        "\n",
        "  for i in range(start,end+1):\n",
        "    key=i\n",
        "    value=i**2\n",
        "    a_dict[key]=value\n",
        "  return a_dict\n",
        "\n",
        "make_square((1,3))"
      ],
      "metadata": {
        "id": "bTG51GgAmEak",
        "colab": {
          "base_uri": "https://localhost:8080/"
        },
        "outputId": "089d7108-7fb1-4c17-86e4-b6e38b53770f"
      },
      "execution_count": null,
      "outputs": [
        {
          "output_type": "execute_result",
          "data": {
            "text/plain": [
              "{1: 1, 2: 4, 3: 9}"
            ]
          },
          "metadata": {},
          "execution_count": 3
        }
      ]
    },
    {
      "cell_type": "code",
      "source": [
        "#11\n",
        "def rem_duplicate(b_tuple):\n",
        "  a_list=list(b_tuple)\n",
        "  new_list=[]\n",
        "\n",
        "  for i  in a_list:\n",
        "    if i not in new_list:\n",
        "      new_list.append(i)\n",
        "\n",
        "  new_tuple=tuple(new_list)\n",
        "  return new_tuple\n",
        "rem_duplicate((1,1,1,1,2,2,2,2,2,3,3,3,3,3,4,4,4,4,4))"
      ],
      "metadata": {
        "colab": {
          "base_uri": "https://localhost:8080/"
        },
        "id": "c49UsxWKaNbx",
        "outputId": "05aee378-45c1-45d0-8c56-da829423170c"
      },
      "execution_count": null,
      "outputs": [
        {
          "output_type": "execute_result",
          "data": {
            "text/plain": [
              "(1, 2, 3, 4)"
            ]
          },
          "metadata": {},
          "execution_count": 5
        }
      ]
    },
    {
      "cell_type": "code",
      "source": [
        "#12\n",
        "def function_name(a_list):\n",
        "\n",
        "  new_list=[]\n",
        "  for i in a_list:\n",
        "    if new_list.count(i)<2:\n",
        "      new_list.append(i)\n",
        "  return new_list     \n",
        "\n",
        "function_name([1, 2, 3, 3, 3, 3, 4, 5, 8, 8])"
      ],
      "metadata": {
        "id": "i5bjChnB5hX_"
      },
      "execution_count": null,
      "outputs": []
    },
    {
      "cell_type": "code",
      "source": [
        "#13\n",
        "  \n",
        "operator=input(\"op:\") \n",
        "first_num=int(input())\n",
        "second_num=int(input())\n",
        "\n",
        "def function_name(operator,first_num,Second_num):\n",
        "  if operator=='+':\n",
        "    result= first_num + second_num\n",
        "    return result\n",
        "  elif operator=='-':\n",
        "     result= first_num - second_num\n",
        "     return result   \n",
        "  elif operator=='*':\n",
        "     result= first_num * second_num\n",
        "     return result\n",
        "  elif operator=='/':\n",
        "     result= first_num / second_num\n",
        "     return result\n",
        "\n",
        "function_name(operator,first_num,second_num)    "
      ],
      "metadata": {
        "colab": {
          "base_uri": "https://localhost:8080/"
        },
        "id": "W-qWD8HD5hcG",
        "outputId": "8f51d204-c948-4f93-9aae-48e1e5a783a5"
      },
      "execution_count": null,
      "outputs": [
        {
          "output_type": "stream",
          "name": "stdout",
          "text": [
            "Operator:+\n",
            "Number1:50\n",
            "Number2:30\n",
            "80.0\n"
          ]
        }
      ]
    },
    {
      "cell_type": "code",
      "source": [
        "#14\n",
        "def function_name(words,pos):\n",
        "  new_word=''\n",
        "  first = words[0]\n",
        "  extra_word=''\n",
        "  final_word=''\n",
        "\n",
        "  for i in range(1,len(words)):\n",
        "    if i%pos !=0:\n",
        "      new_word=new_word+words[i]\n",
        "    else:\n",
        "      extra_word=extra_word+words[i]\n",
        "  final_word=first+new_word + extra_word\n",
        "  return final_word\n",
        "\n",
        "\n",
        "output=function_name(\"I love programming.\",3)\n",
        "print(output)"
      ],
      "metadata": {
        "colab": {
          "base_uri": "https://localhost:8080/"
        },
        "id": "sgRDalLcbp6Q",
        "outputId": "a9cfd5df-e5ab-4e42-dd9b-31e934d059c5"
      },
      "execution_count": null,
      "outputs": [
        {
          "output_type": "stream",
          "name": "stdout",
          "text": [
            "I lveprgrmmngo oai.\n"
          ]
        }
      ]
    },
    {
      "cell_type": "code",
      "source": [
        "#15\n",
        "list1= input(\"List:\")\n",
        "location= input(\"Address:\")\n",
        "def function_name(a,location= \"dhanmondi\"):\n",
        "  a= a.replace(\"'\",\"\")\n",
        "  a= a[1:-1]\n",
        "  a= a.replace('\"',\"\")\n",
        "  a= a.replace(\" \",\"\")\n",
        "  a= a.split(\",\")\n",
        "  location= location.lower\n",
        "  sum= 0\n",
        "  dict1= {\"Rice\":105, \"Potato\":20, \"Chicken\":250, \"Beef\":510, \"Oil\":85}\n",
        "  for i in a:\n",
        "    sum+= dict1[i]\n",
        "  if location==\"\":\n",
        "    sum+=30\n",
        "  elif location ==\"dhanmondi\":\n",
        "    sum+= 30\n",
        "  else:\n",
        "    sum+= 70\n",
        "  return sum\n",
        "function_name(a= list1,location= location)"
      ],
      "metadata": {
        "colab": {
          "base_uri": "https://localhost:8080/"
        },
        "id": "iIc_AsQiulID",
        "outputId": "b7cce859-9582-4c16-b6d7-111658a780a7"
      },
      "execution_count": null,
      "outputs": [
        {
          "name": "stdout",
          "output_type": "stream",
          "text": [
            "List:[\"Rice\", \"Beef\", \"Rice\"]\n",
            "Address:dhanmondi\n"
          ]
        },
        {
          "output_type": "execute_result",
          "data": {
            "text/plain": [
              "790"
            ]
          },
          "metadata": {},
          "execution_count": 5
        }
      ]
    }
  ]
}