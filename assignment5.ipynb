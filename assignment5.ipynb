{
  "nbformat": 4,
  "nbformat_minor": 0,
  "metadata": {
    "colab": {
      "provenance": [],
      "collapsed_sections": []
    },
    "kernelspec": {
      "name": "python3",
      "display_name": "Python 3"
    },
    "language_info": {
      "name": "python"
    }
  },
  "cells": [
    {
      "cell_type": "code",
      "execution_count": null,
      "metadata": {
        "colab": {
          "base_uri": "https://localhost:8080/"
        },
        "id": "HiJpZkS5TZgs",
        "outputId": "6fe322b7-c399-475e-847b-1c553b1e1ac3"
      },
      "outputs": [
        {
          "output_type": "stream",
          "name": "stdout",
          "text": [
            "400\n"
          ]
        }
      ],
      "source": [
        "\n",
        "#1\n",
        "a_tuple = (\"The Institute\", (\"Best Mystery & Thriller\", \"The Silent Patient\", 68821), 75717,\n",
        "[1, 2, 3, 400, 5, 6, 7], (\"Best Fiction\", \"The Testaments\", 98291))\n",
        "print(a_tuple[3][3])"
      ]
    },
    {
      "cell_type": "code",
      "source": [
        "#2\n",
        "atuple=(10, 20, 24, 25, 26, 35, 70)\n",
        "len1=len(atuple)\n",
        "new=atuple[2:len1-2]\n",
        "print(new)\n"
      ],
      "metadata": {
        "colab": {
          "base_uri": "https://localhost:8080/"
        },
        "id": "obeK8VJOUDp9",
        "outputId": "3a2b44f9-31dc-467e-9731-f9fc32b211f3"
      },
      "execution_count": null,
      "outputs": [
        {
          "output_type": "stream",
          "name": "stdout",
          "text": [
            "(24, 25, 26)\n"
          ]
        }
      ]
    },
    {
      "cell_type": "code",
      "source": [
        "#3\n",
        "book_info = (\n",
        "(\"Best Mystery & Thriller\",\"The Silent Patient\",68,821),\n",
        "(\"Best Horror\",\"The Institute\",75,717),\n",
        "(\"Best History & Biography\",\"The five\",31,783 ),\n",
        "(\"Best Fiction\",\"The Testaments\",98,291)\n",
        ")\n",
        "print(\"Size of the tuple is:\",len(book_info))\n",
        "for i in book_info:\n",
        "    print(i)."
      ],
      "metadata": {
        "colab": {
          "base_uri": "https://localhost:8080/"
        },
        "id": "m88sDuvqX1nF",
        "outputId": "08ed02a8-b9b2-48ec-a175-a3b9a16bde7c"
      },
      "execution_count": null,
      "outputs": [
        {
          "output_type": "stream",
          "name": "stdout",
          "text": [
            "Size of the tuple is: 4\n",
            "('Best Mystery & Thriller', 'The Silent Patient', 68, 821)\n",
            "('Best Horror', 'The Institute', 75, 717)\n",
            "('Best History & Biography', 'The five', 31, 783)\n",
            "('Best Fiction', 'The Testaments', 98, 291)\n"
          ]
        }
      ]
    },
    {
      "cell_type": "code",
      "source": [
        "#4\n",
        "book_info = (\n",
        "(\"Best Mystery & Thriller\",\"The Silent Patient\",68821),\n",
        "(\"Best Horror\",\"The Institute\",75717),\n",
        "(\"Best History & Biography\",\"The five\",31783 ),\n",
        "(\"Best Fiction\",\"The Testaments\",98291)\n",
        ")\n",
        "\n",
        "\n",
        "len1=len(book_info)\n",
        "\n",
        "for i in  range(len1):\n",
        "  print(\"{} won the '{}' category with {} votes.\".format(book_info[i][1],book_info[i][0], book_info[i][2]))"
      ],
      "metadata": {
        "colab": {
          "base_uri": "https://localhost:8080/"
        },
        "id": "4JizNQewZMAj",
        "outputId": "3594d5d2-70a5-417f-99c3-6fe0f0a98199"
      },
      "execution_count": null,
      "outputs": [
        {
          "output_type": "stream",
          "name": "stdout",
          "text": [
            "The Silent Patient won the 'Best Mystery & Thriller' category with 68821 votes.\n",
            "The Institute won the 'Best Horror' category with 75717 votes.\n",
            "The five won the 'Best History & Biography' category with 31783 votes.\n",
            "The Testaments won the 'Best Fiction' category with 98291 votes.\n"
          ]
        }
      ]
    },
    {
      "cell_type": "code",
      "source": [
        "#5\n",
        "given_tuple= (10, 8, 5, 2, 10, 15, 10, 8, 5, 8, 8, 2)\n",
        "inp=int(input('sir, enter your number:'))\n",
        "count=0\n",
        "for i in given_tuple:\n",
        "  if inp==i:\n",
        "    count=count+1\n",
        "print(inp, 'appears' ,count , 'times in the tuple')\n"
      ],
      "metadata": {
        "colab": {
          "base_uri": "https://localhost:8080/"
        },
        "id": "Ja4rS-NeYzpD",
        "outputId": "e6591698-0322-432a-9b75-b32d2eb2f95f"
      },
      "execution_count": null,
      "outputs": [
        {
          "output_type": "stream",
          "name": "stdout",
          "text": [
            "sir, enter your number:8\n",
            "8 appears 4 times in the tuple\n"
          ]
        }
      ]
    },
    {
      "cell_type": "code",
      "source": [
        "#6\n",
        "giventuple= ('a', 'b', 'c', 'd', 'e', 'f', 'g', 'h')\n",
        "list1=list(giventuple)\n",
        "\n",
        "\n",
        "len1=len(list1)\n",
        "newlist=list1[-1::-1]\n",
        "newtuple=tuple(newlist)\n",
        "print(newtuple)\n"
      ],
      "metadata": {
        "colab": {
          "base_uri": "https://localhost:8080/"
        },
        "id": "1A17JoBKb1hK",
        "outputId": "fae8163c-fc37-470a-e53f-6b4239ca8787"
      },
      "execution_count": null,
      "outputs": [
        {
          "output_type": "stream",
          "name": "stdout",
          "text": [
            "('h', 'g', 'f', 'e', 'd', 'c', 'b', 'a')\n"
          ]
        }
      ]
    },
    {
      "cell_type": "code",
      "source": [
        "#7\n",
        "dict1= {'Harry':15, 'Draco':8, 'Nevil':19}\n",
        "dict3={'Harry':15, 'Draco':8, 'Nevil':19}\n",
        "dict2={'Ginie':18, 'Luna': 14}\n",
        "\n",
        "dict3.update(dict2)\n",
        "print(dict3)"
      ],
      "metadata": {
        "colab": {
          "base_uri": "https://localhost:8080/"
        },
        "id": "6hIyZj5GeFAX",
        "outputId": "9c80cf9f-7fe0-47e7-8c02-63db1eae7740"
      },
      "execution_count": null,
      "outputs": [
        {
          "output_type": "stream",
          "name": "stdout",
          "text": [
            "{'Harry': 15, 'Draco': 8, 'Nevil': 19, 'Ginie': 18, 'Luna': 14}\n"
          ]
        }
      ]
    },
    {
      "cell_type": "code",
      "source": [
        "#8\n",
        "#todo\n",
        "salary = {'Jon': 100, 'Dan':200, 'Rob':300}\n",
        "sum = 0\n",
        "counter = 0\n",
        "\n",
        "for item in salary.values():\n",
        "    sum=sum+item\n",
        "    counter+=1\n",
        "avg=sum/counter\n",
        "print(\"Average is\",int(avg))\n"
      ],
      "metadata": {
        "id": "QHr98xNJh-nn",
        "colab": {
          "base_uri": "https://localhost:8080/"
        },
        "outputId": "d135749a-2e1e-41db-b04e-4d01ab30d749"
      },
      "execution_count": null,
      "outputs": [
        {
          "output_type": "stream",
          "name": "stdout",
          "text": [
            "Average is 200\n"
          ]
        }
      ]
    },
    {
      "cell_type": "code",
      "source": [
        "#9\n",
        "exam_marks = {'Cierra Vega': 175, 'Alden Cantrell': 200, 'Kierra Gentry': 165, 'Pierre Cox': 190}\n",
        "new_dict={}\n",
        "num=int(input())\n",
        "for key,value in exam_marks.items():\n",
        "  if value>num:\n",
        "    new_dict[key]=value\n",
        "print(new_dict)\n",
        "\n",
        "\n",
        "\n",
        "\n"
      ],
      "metadata": {
        "colab": {
          "base_uri": "https://localhost:8080/"
        },
        "id": "7Hir1ijulZFY",
        "outputId": "e629fdd2-b649-4a95-a1a4-f605b8b92dc3"
      },
      "execution_count": null,
      "outputs": [
        {
          "output_type": "stream",
          "name": "stdout",
          "text": [
            "170\n",
            "{'Cierra Vega': 175, 'Alden Cantrell': 200, 'Pierre Cox': 190}\n"
          ]
        }
      ]
    },
    {
      "cell_type": "code",
      "source": [
        "#10\n",
        "dict1={'sci fi': 12, 'mystery': 15, 'horror': 8, 'mythology': 10, 'young_adult': 4, 'adventure':14}\n",
        "largest=0\n",
        "new_dict={}\n",
        "for i,j in dict1.items():\n",
        "  if j>largest:\n",
        "    largest=j\n",
        "    new_dict=i\n",
        "print(f\"The highest selling book genre is,'{new_dict}',and the number of books sold are,'{largest}'\")\n",
        "\n"
      ],
      "metadata": {
        "colab": {
          "base_uri": "https://localhost:8080/"
        },
        "id": "8iMTM18DnoIP",
        "outputId": "9687004f-a14b-4bf9-e887-cd66104f06cd"
      },
      "execution_count": null,
      "outputs": [
        {
          "output_type": "stream",
          "name": "stdout",
          "text": [
            "The highest selling book genre is,'mystery',and the number of books sold are,'15'\n"
          ]
        }
      ]
    },
    {
      "cell_type": "code",
      "source": [],
      "metadata": {
        "id": "nHtGgh1ICjvm"
      },
      "execution_count": null,
      "outputs": []
    },
    {
      "cell_type": "code",
      "source": [
        "#task10\n",
        "dic1={'sci fi': 12, 'mystery': 15, 'horror': 8, 'mythology': 10, 'young_adult': 4, 'adventure':14}\n",
        "max=None\n",
        "new_dic={}\n",
        "for key,val in dic1.items():\n",
        "  if max==None or val>max:                #dont use\n",
        "    max=val\n",
        "    new_dic1=key\n",
        "print(new_dic1,max)"
      ],
      "metadata": {
        "colab": {
          "base_uri": "https://localhost:8080/"
        },
        "id": "QTi1lJ61vSoa",
        "outputId": "69d2267c-e591-470d-de86-d5f38dc03575"
      },
      "execution_count": null,
      "outputs": [
        {
          "output_type": "stream",
          "name": "stdout",
          "text": [
            "mystery 15\n"
          ]
        }
      ]
    },
    {
      "cell_type": "code",
      "source": [],
      "metadata": {
        "id": "qdmJmEgSC8ts"
      },
      "execution_count": null,
      "outputs": []
    },
    {
      "cell_type": "code",
      "source": [
        "#11\n",
        "dict_1=\"Python programming is fun\"\n",
        "small=dict_1.lower()\n",
        "nword=''\n",
        "\n",
        "for char in small:\n",
        "  if char!=' ':\n",
        "    nword=nword+char\n",
        "\n",
        "new_dict={}\n",
        "for i in nword:\n",
        "  if i not in new_dict:\n",
        "    new_dict[i]=1\n",
        "  else:\n",
        "    new_dict[i]+=1\n",
        "print(new_dict)      "
      ],
      "metadata": {
        "id": "oEsgBJeTwuFC",
        "colab": {
          "base_uri": "https://localhost:8080/"
        },
        "outputId": "968665cb-f40f-464b-bd24-de8786b777ba"
      },
      "execution_count": null,
      "outputs": [
        {
          "output_type": "stream",
          "name": "stdout",
          "text": [
            "{'p': 2, 'y': 1, 't': 1, 'h': 1, 'o': 2, 'n': 3, 'r': 2, 'g': 2, 'a': 1, 'm': 2, 'i': 2, 's': 1, 'f': 1, 'u': 1}\n"
          ]
        }
      ]
    },
    {
      "cell_type": "code",
      "source": [
        "#12\n",
        "dict_1 = {'A': [1, 2, 3], 'b': ['1', '2'], \"c\": [4, 5, 6, 7]}\n",
        " \n",
        "count=0\n",
        "\n",
        "for value in dict_1.values():\n",
        "   for i in value:\n",
        "     count=count+1\n",
        "print(count)     "
      ],
      "metadata": {
        "colab": {
          "base_uri": "https://localhost:8080/"
        },
        "id": "ZiJyUqV7C977",
        "outputId": "6f701c7d-dbbc-47e0-8bb7-2455ea879dff"
      },
      "execution_count": null,
      "outputs": [
        {
          "output_type": "stream",
          "name": "stdout",
          "text": [
            "9\n"
          ]
        }
      ]
    },
    {
      "cell_type": "code",
      "source": [
        "#13\n",
        "list_1 = [(\"a\", 1), (\"b\", 2), (\"a\", 3), (\"b\", 1), (\"a\", 2), (\"c\", 1)]\n",
        "\n",
        "list_a=[]\n",
        "list_b=[]\n",
        "list_c=[]\n",
        "\n",
        "for i in list_1:\n",
        "  if i[0]=='a':\n",
        "    list_a.append(i[1])\n",
        "  elif i[0]=='b':\n",
        "    list_b.append(i[1]) \n",
        "  elif i[0]=='c':\n",
        "    list_c.append(i[1])  \n",
        "\n",
        "new_dict={'a':list_a,'b':list_b,'c':list_c}\n",
        "print(new_dict) \n"
      ],
      "metadata": {
        "colab": {
          "base_uri": "https://localhost:8080/"
        },
        "id": "gvFi-cbBD_vM",
        "outputId": "1e859482-2071-457c-d0e5-ca7184fee409"
      },
      "execution_count": null,
      "outputs": [
        {
          "output_type": "stream",
          "name": "stdout",
          "text": [
            "{'a': [1, 3, 2], 'b': [2, 1], 'c': [1]}\n"
          ]
        }
      ]
    },
    {
      "cell_type": "code",
      "source": [
        "(6 - 22 % 8) * 3"
      ],
      "metadata": {
        "colab": {
          "base_uri": "https://localhost:8080/"
        },
        "id": "GokGEIytoSsh",
        "outputId": "3c36d6ac-aec6-447e-8b05-c0283f974387"
      },
      "execution_count": null,
      "outputs": [
        {
          "output_type": "execute_result",
          "data": {
            "text/plain": [
              "0"
            ]
          },
          "metadata": {},
          "execution_count": 3
        }
      ]
    },
    {
      "cell_type": "code",
      "source": [
        "dict1 = {'a':59 , 'b':-82 , 'c':5 , 'd':-81 , 'e':53}\n",
        "for i in dict1:\n",
        "    j = 0\n",
        "    k = 22\n",
        "    while j < 5:\n",
        "        if j % 2 == 0:\n",
        "            k = dict1[i] + j - (8 + k % 6) / 3\n",
        "            dict1[i] = dict1[i]+ int(k)\n",
        "        else:\n",
        "            k = dict1[i] + j - (6 - k % 8) * 3\n",
        "            dict1[i] = dict1[i] - int(k)\n",
        "        j += 1\n",
        "    print(int(k))\n",
        "    print(i + \" -> \" + str(dict1[i]))\n",
        "\n",
        "\n",
        "\n"
      ],
      "metadata": {
        "colab": {
          "base_uri": "https://localhost:8080/"
        },
        "id": "rfxQDvd2Ck89",
        "outputId": "5eb466df-d28e-49da-9448-9d4214b00856"
      },
      "execution_count": null,
      "outputs": [
        {
          "output_type": "stream",
          "name": "stdout",
          "text": [
            "8\n",
            "a -> 17\n",
            "10\n",
            "b -> 19\n",
            "2\n",
            "c -> 5\n",
            "-7\n",
            "d -> -14\n",
            "2\n",
            "e -> 5\n"
          ]
        }
      ]
    }
  ]
}