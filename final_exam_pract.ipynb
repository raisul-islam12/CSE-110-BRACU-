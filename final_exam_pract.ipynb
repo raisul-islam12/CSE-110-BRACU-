{
  "nbformat": 4,
  "nbformat_minor": 0,
  "metadata": {
    "colab": {
      "provenance": [],
      "collapsed_sections": []
    },
    "kernelspec": {
      "name": "python3",
      "display_name": "Python 3"
    },
    "language_info": {
      "name": "python"
    }
  },
  "cells": [
    {
      "cell_type": "code",
      "execution_count": null,
      "metadata": {
        "colab": {
          "base_uri": "https://localhost:8080/"
        },
        "id": "s6MWL9yOe0QN",
        "outputId": "281df409-33f3-4a45-de21-5dbfdccea7f6"
      },
      "outputs": [
        {
          "output_type": "stream",
          "name": "stdout",
          "text": [
            "5\n",
            "5\n",
            "sum: 10\n"
          ]
        }
      ],
      "source": [
        "inp=int(input())\n",
        "inp1=int(input())\n",
        "print('sum:',inp+inp1)"
      ]
    },
    {
      "cell_type": "code",
      "source": [
        "rad=int(input())\n",
        "import math\n",
        "\n",
        "area=math.pi * rad**2\n",
        "print(area)"
      ],
      "metadata": {
        "colab": {
          "base_uri": "https://localhost:8080/"
        },
        "id": "RNyTVTYtgRFM",
        "outputId": "5fb965ab-466e-4dfe-f893-837a62ed3743"
      },
      "execution_count": null,
      "outputs": [
        {
          "output_type": "stream",
          "name": "stdout",
          "text": [
            "4\n",
            "50.26548245743669\n"
          ]
        }
      ]
    },
    {
      "cell_type": "code",
      "source": [
        "inp=int(input())\n",
        "inp1=int(input())\n",
        "\n",
        "if inp>inp1:\n",
        "  print('first is greater')\n",
        "else:\n",
        "  print('secound is greater')  "
      ],
      "metadata": {
        "colab": {
          "base_uri": "https://localhost:8080/"
        },
        "id": "8zMrjUiqgSzU",
        "outputId": "014f032a-55c9-45f3-b083-303e0428a2d0"
      },
      "execution_count": null,
      "outputs": [
        {
          "output_type": "stream",
          "name": "stdout",
          "text": [
            "-33\n",
            "-3\n",
            "secound is greater\n"
          ]
        }
      ]
    },
    {
      "cell_type": "code",
      "source": [
        "inp1=int(input())\n",
        "inp2=int(input())\n",
        "result=0\n",
        "if inp1>inp2:\n",
        "  result=inp1-inp2\n",
        "else:\n",
        "  result=inp2-inp1\n",
        "\n",
        "print(result)"
      ],
      "metadata": {
        "colab": {
          "base_uri": "https://localhost:8080/"
        },
        "id": "najhdZtSgS1c",
        "outputId": "224fec70-aab3-4afd-bd4e-38706e8016b1"
      },
      "execution_count": null,
      "outputs": [
        {
          "output_type": "stream",
          "name": "stdout",
          "text": [
            "5\n",
            "5\n",
            "0\n"
          ]
        }
      ]
    },
    {
      "cell_type": "code",
      "source": [
        "inp=int(input())\n",
        "\n",
        "if inp%2==0:\n",
        "  print('even')\n",
        "else:\n",
        "  print('odd')  "
      ],
      "metadata": {
        "colab": {
          "base_uri": "https://localhost:8080/"
        },
        "id": "gE8WcmLJgS5L",
        "outputId": "14e18194-1080-4278-9a61-e0c4cf94b38e"
      },
      "execution_count": null,
      "outputs": [
        {
          "output_type": "stream",
          "name": "stdout",
          "text": [
            "7\n",
            "odd\n"
          ]
        }
      ]
    },
    {
      "cell_type": "code",
      "source": [
        "inp=int(input())\n",
        "\n",
        "if inp%2==0 or inp%5==0:\n",
        "  print(inp)\n",
        "else:\n",
        "  print('not a MULTIPLE')  "
      ],
      "metadata": {
        "colab": {
          "base_uri": "https://localhost:8080/"
        },
        "id": "6x-hFGFsh-JD",
        "outputId": "02de03fa-fef8-4417-96fd-ad11601464b6"
      },
      "execution_count": null,
      "outputs": [
        {
          "output_type": "stream",
          "name": "stdout",
          "text": [
            "3\n",
            "not a MULTIPLE\n"
          ]
        }
      ]
    },
    {
      "cell_type": "code",
      "source": [
        "inp=int(input())\n",
        "\n",
        "hours=inp//3600\n",
        "rem=inp%3600\n",
        "min=rem//60\n",
        "sec=rem%60\n",
        "print(hours,min,sec)"
      ],
      "metadata": {
        "colab": {
          "base_uri": "https://localhost:8080/"
        },
        "id": "7Vp2O-eMgS7c",
        "outputId": "d1d3dc9c-e68e-40ed-ebdc-8c70c13055db"
      },
      "execution_count": null,
      "outputs": [
        {
          "output_type": "stream",
          "name": "stdout",
          "text": [
            "10000\n",
            "2 46 40\n"
          ]
        }
      ]
    },
    {
      "cell_type": "code",
      "source": [
        "inp=int(input())\n",
        "if 0>inp>168:\n",
        "  print('invalid')\n",
        "elif inp<=40:\n",
        "  print(200*inp)\n",
        "elif inp>40:\n",
        "  print((inp-40)*300+8000)    "
      ],
      "metadata": {
        "colab": {
          "base_uri": "https://localhost:8080/"
        },
        "id": "magKSyQ2gS-M",
        "outputId": "4f58d4a8-eec0-4263-94c8-5104ddabfd40"
      },
      "execution_count": null,
      "outputs": [
        {
          "output_type": "stream",
          "name": "stdout",
          "text": [
            "-30\n",
            "-6000\n"
          ]
        }
      ]
    },
    {
      "cell_type": "code",
      "source": [
        "inp=int(input())\n",
        "\n",
        "if inp<100:\n",
        "  print(3000-125*(inp)**2)\n",
        "else:\n",
        "  print(12000/(4+(inp**2/14900)))  "
      ],
      "metadata": {
        "colab": {
          "base_uri": "https://localhost:8080/"
        },
        "id": "KZSz3gifgTAk",
        "outputId": "7dfed616-a7f1-446d-ff9c-95f3694793bc"
      },
      "execution_count": null,
      "outputs": [
        {
          "output_type": "stream",
          "name": "stdout",
          "text": [
            "3\n",
            "1875\n"
          ]
        }
      ]
    },
    {
      "cell_type": "code",
      "source": [
        "inp=int(input())\n",
        "\n",
        "if inp>100 or inp<0 :\n",
        "  print('invalid')\n",
        "elif 90<inp<100:\n",
        "  print(\"a\")  \n",
        "elif 80<inp<89:\n",
        "  print(\"b\")\n",
        "\n",
        "#and so on    "
      ],
      "metadata": {
        "colab": {
          "base_uri": "https://localhost:8080/"
        },
        "id": "1ykXA6lZj7Ik",
        "outputId": "ac99de39-7a4b-4a59-d5d5-933a6193838c"
      },
      "execution_count": null,
      "outputs": [
        {
          "output_type": "stream",
          "name": "stdout",
          "text": [
            "95\n",
            "a\n"
          ]
        }
      ]
    },
    {
      "cell_type": "code",
      "source": [
        "cg=float(input())\n",
        "credit=int(input())\n",
        "\n",
        "if credit>30 and cg>=3.8 :\n",
        "  if 3.80<cg<3.89:\n",
        "    print('25')\n",
        "  elif 3.90<cg<3.94:\n",
        "    print(\"50\")\n",
        "else:\n",
        "  print('not eligible')      "
      ],
      "metadata": {
        "colab": {
          "base_uri": "https://localhost:8080/"
        },
        "id": "oDbrENnNgTDO",
        "outputId": "5b31f7a4-742d-425f-a1b1-3d1e79af2fcc"
      },
      "execution_count": null,
      "outputs": [
        {
          "output_type": "stream",
          "name": "stdout",
          "text": [
            "3.93\n",
            "78\n",
            "50\n"
          ]
        }
      ]
    },
    {
      "cell_type": "code",
      "source": [
        "for i in range(24,-7,-6):\n",
        "  if i==-6:\n",
        "    print(i)\n",
        "  else:\n",
        "    print(i,end=',')  "
      ],
      "metadata": {
        "colab": {
          "base_uri": "https://localhost:8080/"
        },
        "id": "o7xzk7W6gTFs",
        "outputId": "147ffa0b-91e9-4aeb-aab4-4079ff010dc3"
      },
      "execution_count": null,
      "outputs": [
        {
          "output_type": "stream",
          "name": "stdout",
          "text": [
            "24,18,12,6,0,-6\n"
          ]
        }
      ]
    },
    {
      "cell_type": "code",
      "source": [
        "for i in range(18,64,9):\n",
        "  if i==63:\n",
        "    print(i)\n",
        "  else:\n",
        "    print(i,end=',')  "
      ],
      "metadata": {
        "colab": {
          "base_uri": "https://localhost:8080/"
        },
        "id": "7QWg-S6NgTIP",
        "outputId": "a8fb44ec-4417-4eab-d12e-7a09194c57b9"
      },
      "execution_count": null,
      "outputs": [
        {
          "output_type": "stream",
          "name": "stdout",
          "text": [
            "18,27,36,45,54,63\n"
          ]
        }
      ]
    },
    {
      "cell_type": "code",
      "source": [
        "carname=input()\n",
        "number=int(input())\n",
        "\n",
        "for i in range(number):\n",
        "  print(carname)"
      ],
      "metadata": {
        "colab": {
          "base_uri": "https://localhost:8080/"
        },
        "id": "zQLVjor6rWb2",
        "outputId": "d9f1671b-a847-4908-ba2d-a6cb0346bdbb"
      },
      "execution_count": null,
      "outputs": [
        {
          "output_type": "stream",
          "name": "stdout",
          "text": [
            "fuclyou\n",
            "5\n",
            "fuclyou\n",
            "fuclyou\n",
            "fuclyou\n",
            "fuclyou\n",
            "fuclyou\n"
          ]
        }
      ]
    },
    {
      "cell_type": "code",
      "source": [
        "count=0\n",
        "for i in range(601):\n",
        "  if i%7==0 and i%9==0:\n",
        "    count=count+i\n",
        "print(count)  "
      ],
      "metadata": {
        "id": "OdBAiwnErWqN"
      },
      "execution_count": null,
      "outputs": []
    },
    {
      "cell_type": "code",
      "source": [
        "count=0\n",
        "for i in range(601):\n",
        "  if \n",
        "  if i%7==0 or i%9==0:\n",
        "    count=count+i\n",
        "print(count) "
      ],
      "metadata": {
        "id": "pfs74pwGrWsl"
      },
      "execution_count": null,
      "outputs": []
    },
    {
      "cell_type": "code",
      "source": [
        "for i in range(10,50):\n",
        "  if i%2 !=0:\n",
        "    print(i,end=' ')"
      ],
      "metadata": {
        "id": "rCBXAfG4rWvV",
        "colab": {
          "base_uri": "https://localhost:8080/"
        },
        "outputId": "f973d56c-8e15-46f0-a58a-37f57b6c450d"
      },
      "execution_count": null,
      "outputs": [
        {
          "output_type": "stream",
          "name": "stdout",
          "text": [
            "11 13 15 17 19 21 23 25 27 29 31 33 35 37 39 41 43 45 47 49 "
          ]
        }
      ]
    },
    {
      "cell_type": "code",
      "source": [
        "inp=int(input())\n",
        "sum=0\n",
        "for i in range (inp+1):\n",
        "  if i%2!=0:\n",
        "    sum=sum+i**2\n",
        "  elif i%2==0:\n",
        "    sum=sum-i**2\n",
        "print(sum)      \n"
      ],
      "metadata": {
        "id": "gH1zuMf3rWxt",
        "colab": {
          "base_uri": "https://localhost:8080/"
        },
        "outputId": "155db7d1-443e-44f4-db04-1d031899c852"
      },
      "execution_count": null,
      "outputs": [
        {
          "output_type": "stream",
          "name": "stdout",
          "text": [
            "5\n",
            "15\n"
          ]
        }
      ]
    },
    {
      "cell_type": "code",
      "source": [
        "sum=0\n",
        "count=0\n",
        "for i in range(0,10):\n",
        "  inp=int(input())\n",
        "\n",
        "  if i%2!=0:\n",
        "    sum=sum+i\n",
        "    count=count+1\n",
        "    avarage=sum/count\n",
        "print(avarage)    \n"
      ],
      "metadata": {
        "id": "MEMNQpcSrW0H",
        "colab": {
          "base_uri": "https://localhost:8080/"
        },
        "outputId": "5989578a-dc02-4ed2-c43c-67506901f80e"
      },
      "execution_count": null,
      "outputs": [
        {
          "output_type": "stream",
          "name": "stdout",
          "text": [
            "1\n",
            "2\n",
            "3\n",
            "4\n",
            "5\n",
            "6\n",
            "7\n",
            "8\n",
            "9\n",
            "10\n",
            "5.0\n"
          ]
        }
      ]
    },
    {
      "cell_type": "code",
      "source": [
        "inp=int(input())\n",
        "sum=0\n",
        "for i in range(inp):\n",
        "  if i%7==0:\n",
        "    sum=sum+i\n",
        "print(sum)    "
      ],
      "metadata": {
        "id": "Wr1i6IgSrW2V",
        "colab": {
          "base_uri": "https://localhost:8080/"
        },
        "outputId": "7d0c56ee-80ea-4356-b496-82f7d586b286"
      },
      "execution_count": null,
      "outputs": [
        {
          "output_type": "stream",
          "name": "stdout",
          "text": [
            "50\n",
            "196\n"
          ]
        }
      ]
    },
    {
      "cell_type": "code",
      "source": [
        "sum=0\n",
        "for i in range(5):\n",
        "  inp=int(input())\n",
        "  sum=sum+inp\n",
        "  print('out:',sum)\n",
        "  "
      ],
      "metadata": {
        "colab": {
          "base_uri": "https://localhost:8080/"
        },
        "id": "3k9k8aNHvso9",
        "outputId": "388f9438-c13e-47f7-e25d-9297b96c4b1b"
      },
      "execution_count": null,
      "outputs": [
        {
          "output_type": "stream",
          "name": "stdout",
          "text": [
            "1\n",
            "out: 1\n",
            "2\n",
            "out: 3\n",
            "3\n",
            "out: 6\n",
            "4\n",
            "out: 10\n",
            "5\n",
            "out: 15\n"
          ]
        }
      ]
    },
    {
      "cell_type": "code",
      "source": [
        "number=32768\n",
        "\n",
        "while number>0:\n",
        "  rem=number%10\n",
        "  if rem==3:\n",
        "    print(rem)\n",
        "  else:  \n",
        "    print(rem,end=',')\n",
        "  number=number//10"
      ],
      "metadata": {
        "colab": {
          "base_uri": "https://localhost:8080/"
        },
        "id": "KkXwiackvsrc",
        "outputId": "6c23c447-3080-42ed-d8f3-37ccff111f02"
      },
      "execution_count": null,
      "outputs": [
        {
          "output_type": "stream",
          "name": "stdout",
          "text": [
            "8,6,7,2,3\n"
          ]
        }
      ]
    },
    {
      "cell_type": "code",
      "source": [
        "inp=int(input())\n",
        "count=0\n",
        "while inp>0:\n",
        "  count=count+1\n",
        "  inp=inp//10\n",
        "print(count)  "
      ],
      "metadata": {
        "colab": {
          "base_uri": "https://localhost:8080/"
        },
        "id": "1tmAw8ChvsuA",
        "outputId": "4cef0aca-947e-49f9-9b18-c260332670e7"
      },
      "execution_count": null,
      "outputs": [
        {
          "output_type": "stream",
          "name": "stdout",
          "text": [
            "32768\n",
            "5\n"
          ]
        }
      ]
    },
    {
      "cell_type": "code",
      "source": [
        "inp=int(input())\n",
        "count=0\n",
        "for i in range(1,inp+1):\n",
        "  if inp%i==0:\n",
        "    count=count+1\n",
        "print(count)    "
      ],
      "metadata": {
        "colab": {
          "base_uri": "https://localhost:8080/"
        },
        "id": "Dz3WaojNvsw1",
        "outputId": "af717522-ce4c-421d-c689-422e5a3cb292"
      },
      "execution_count": null,
      "outputs": [
        {
          "output_type": "stream",
          "name": "stdout",
          "text": [
            "121\n",
            "3\n"
          ]
        }
      ]
    },
    {
      "cell_type": "code",
      "source": [
        "inp=int(input())\n",
        "sum=0\n",
        "for i in range(1,inp):\n",
        "  if inp%i==0:\n",
        "    sum=sum+i\n",
        "\n",
        "if sum==inp:\n",
        "    print('Perfect')\n",
        "\n",
        "else:\n",
        "    print('not')    \n",
        "\n"
      ],
      "metadata": {
        "colab": {
          "base_uri": "https://localhost:8080/"
        },
        "id": "T2BeKMyKvs0d",
        "outputId": "213e15ed-f43f-466c-f844-5511c0af8880"
      },
      "execution_count": null,
      "outputs": [
        {
          "output_type": "stream",
          "name": "stdout",
          "text": [
            "33\n",
            "not\n"
          ]
        }
      ]
    },
    {
      "cell_type": "code",
      "source": [
        "inp=int(input())\n",
        "count=0\n",
        "for i in range(1,inp+1):\n",
        "  if inp%i==0:\n",
        "    count=count+1\n",
        "\n",
        "\n",
        "if count==2:\n",
        "  print('prime')\n",
        "else:\n",
        "  print('not prime')  "
      ],
      "metadata": {
        "colab": {
          "base_uri": "https://localhost:8080/"
        },
        "id": "Kxy2gAx8vs20",
        "outputId": "348361a4-6f61-46d1-8762-0172bd973a7e"
      },
      "execution_count": null,
      "outputs": [
        {
          "output_type": "stream",
          "name": "stdout",
          "text": [
            "6\n",
            "not prime\n"
          ]
        }
      ]
    },
    {
      "cell_type": "code",
      "source": [
        "quantity = int(input(\"\"))\n",
        "count = 0\n",
        "max = 0\n",
        "min = 0\n",
        "sum = 0\n",
        "\n",
        "while count<quantity:\n",
        "  num = int(input(\"\"))\n",
        "  sum+=num\n",
        "  if num>max:\n",
        "    max=num\n",
        "  elif num<min:\n",
        "    min=num\n",
        "  count+=1\n",
        "average = sum/count\n",
        "print('Maximum:',max,'Minimum:',min,'Average is:',average)\n"
      ],
      "metadata": {
        "colab": {
          "base_uri": "https://localhost:8080/"
        },
        "id": "YH7OcEH41Jwg",
        "outputId": "3daab8ba-beae-4a04-bf8f-7cfdd8e339ac"
      },
      "execution_count": null,
      "outputs": [
        {
          "output_type": "stream",
          "name": "stdout",
          "text": [
            "6\n",
            "5\n",
            "10\n",
            "4\n",
            "-1\n",
            "-100\n",
            "1\n",
            "Maximum: 10 Minimum: -100 Average is: -13.5\n"
          ]
        }
      ]
    },
    {
      "cell_type": "code",
      "source": [
        "inp=int(input())\n",
        "for i in range(1,inp+1):\n",
        "  for j in range(1,inp+1):                        #imp**\n",
        "    print(\"+\",end='')\n",
        "  print()  "
      ],
      "metadata": {
        "id": "8leBOiGFgTKM",
        "colab": {
          "base_uri": "https://localhost:8080/"
        },
        "outputId": "39880941-c3fb-4dea-86c1-ad63641a1de6"
      },
      "execution_count": null,
      "outputs": [
        {
          "output_type": "stream",
          "name": "stdout",
          "text": [
            "5\n",
            "+++++\n",
            "+++++\n",
            "+++++\n",
            "+++++\n",
            "+++++\n"
          ]
        }
      ]
    },
    {
      "cell_type": "code",
      "source": [
        "\n",
        "row=int(input())\n",
        "column=int(input())\n",
        "for x in range(1,row+1):\n",
        "    for y in range(1,column+1):            #use thisimp***\n",
        "        print(y,end=\"\")\n",
        "    print(\" \")  \n"
      ],
      "metadata": {
        "colab": {
          "base_uri": "https://localhost:8080/"
        },
        "id": "Nz2tZPQ93fMn",
        "outputId": "6f404b6e-fb99-4596-919b-d5f26f5c2b8c"
      },
      "execution_count": null,
      "outputs": [
        {
          "output_type": "stream",
          "name": "stdout",
          "text": [
            "4\n",
            "4\n",
            "1234 \n",
            "1234 \n",
            "1234 \n",
            "1234 \n"
          ]
        }
      ]
    },
    {
      "cell_type": "code",
      "source": [
        "slope = int(input(\"\"))\n",
        "\n",
        "for i in range(1, slope+1):\n",
        "  for j in range(1, i+1):                            #imp**\n",
        "    print(j, end=\"\")\n",
        "  print(\"\")"
      ],
      "metadata": {
        "colab": {
          "base_uri": "https://localhost:8080/"
        },
        "id": "26JWhPMm3fO-",
        "outputId": "fa453202-2689-4d59-b352-12ec850fb8ed"
      },
      "execution_count": null,
      "outputs": [
        {
          "output_type": "stream",
          "name": "stdout",
          "text": [
            "5\n",
            "1\n",
            "12\n",
            "123\n",
            "1234\n",
            "12345\n"
          ]
        }
      ]
    },
    {
      "cell_type": "code",
      "source": [
        "inp=input()\n",
        "len1=len(inp)\n",
        "rev=inp[-1::-1]\n",
        "print(rev)\n",
        "\n",
        "\n",
        "\n"
      ],
      "metadata": {
        "id": "qf22avRRgTMm",
        "colab": {
          "base_uri": "https://localhost:8080/"
        },
        "outputId": "641834c6-1c3e-4961-f3a6-386510adcb13"
      },
      "execution_count": null,
      "outputs": [
        {
          "output_type": "stream",
          "name": "stdout",
          "text": [
            "CSE110\n",
            "011ESC\n"
          ]
        }
      ]
    },
    {
      "cell_type": "code",
      "source": [
        "inp=input()\n",
        "num=int(input())\n",
        "hold=inp[:num+1]\n",
        "rev=hold[-1::-1]\n",
        "print(rev+inp[num+1:])"
      ],
      "metadata": {
        "id": "uOeDaiovgTOs",
        "colab": {
          "base_uri": "https://localhost:8080/"
        },
        "outputId": "f48d0955-70f6-4f5b-f77c-63112f83f230"
      },
      "execution_count": null,
      "outputs": [
        {
          "output_type": "stream",
          "name": "stdout",
          "text": [
            "12345\n",
            "2\n",
            "32145\n"
          ]
        }
      ]
    },
    {
      "cell_type": "code",
      "source": [
        "inp=input()\n",
        "len1=len(inp)\n",
        "d=False\n",
        "\n",
        "for i in range(len1):\n",
        "  if inp[i]=='0' or inp[i]=='1':\n",
        "    d=True\n",
        "  else:\n",
        "    d=False\n",
        "\n",
        "if d==True:\n",
        "  print(\"b\")\n",
        "else:\n",
        "  print('non b')        "
      ],
      "metadata": {
        "colab": {
          "base_uri": "https://localhost:8080/"
        },
        "id": "SWEg9rSLC81n",
        "outputId": "7946fab4-4c78-46ed-d611-5ca4f65750ba"
      },
      "execution_count": null,
      "outputs": [
        {
          "output_type": "stream",
          "name": "stdout",
          "text": [
            "101010110101010110\n",
            "b\n"
          ]
        }
      ]
    },
    {
      "cell_type": "code",
      "source": [
        "string=input()\n",
        "if len(string)<4:\n",
        "  print(string)\n",
        "\n",
        "elif string.endswith('er'):\n",
        "    print(string[:-2]+'est')\n",
        "elif string.endswith('est'):\n",
        "    print(string)\n",
        "else:\n",
        "    print(string+'er')\n",
        "\n",
        "\n"
      ],
      "metadata": {
        "colab": {
          "base_uri": "https://localhost:8080/"
        },
        "id": "OB33uWexCCH3",
        "outputId": "4972cf71-d7e7-4e02-b18a-a083378a4de1"
      },
      "execution_count": null,
      "outputs": [
        {
          "output_type": "stream",
          "name": "stdout",
          "text": [
            "abc\n",
            "abc\n"
          ]
        }
      ]
    },
    {
      "cell_type": "code",
      "source": [
        "inp=input()\n",
        "len1=len(inp)\n",
        "\n",
        "for i in range(1,len1+1):\n",
        "  for j in range(i):\n",
        "    print(inp[j],end='')\n",
        "  print()  "
      ],
      "metadata": {
        "colab": {
          "base_uri": "https://localhost:8080/"
        },
        "id": "THgJzFjPCCJ_",
        "outputId": "32439927-9c2b-4055-de24-6fb0f8f92ecc"
      },
      "execution_count": null,
      "outputs": [
        {
          "output_type": "stream",
          "name": "stdout",
          "text": [
            "bangla\n",
            "b\n",
            "ba\n",
            "ban\n",
            "bang\n",
            "bangl\n",
            "bangla\n"
          ]
        }
      ]
    },
    {
      "cell_type": "code",
      "source": [
        "inp=input()\n",
        "len1=len(inp)\n",
        "\n",
        "for i in range(len1):\n",
        "  asc=ord(inp[i])                           #imp**\n",
        "  print(inp[i],':',asc)"
      ],
      "metadata": {
        "colab": {
          "base_uri": "https://localhost:8080/"
        },
        "id": "Te1FVOnJCCLp",
        "outputId": "5051a910-3f0a-4d2e-a6f8-155238477ec2"
      },
      "execution_count": null,
      "outputs": [
        {
          "output_type": "stream",
          "name": "stdout",
          "text": [
            "Programming\n",
            "P : 80\n",
            "r : 114\n",
            "o : 111\n",
            "g : 103\n",
            "r : 114\n",
            "a : 97\n",
            "m : 109\n",
            "m : 109\n",
            "i : 105\n",
            "n : 110\n",
            "g : 103\n"
          ]
        }
      ]
    },
    {
      "cell_type": "code",
      "source": [
        "inp=input()\n",
        "\n",
        "for i in inp:\n",
        "  if i=='a':\n",
        "    print('z')\n",
        "\n",
        "  else:\n",
        "    asc=ord(i)\n",
        "    new=asc+1\n",
        "    ascc=chr(new)      \n",
        "    print(ascc,end='')    "
      ],
      "metadata": {
        "colab": {
          "base_uri": "https://localhost:8080/"
        },
        "id": "zE4EDDRZCCP2",
        "outputId": "fa11d78e-274f-4f43-abad-97ecc6fe3267"
      },
      "execution_count": null,
      "outputs": [
        {
          "output_type": "stream",
          "name": "stdout",
          "text": [
            "the cow\n",
            "uif!dpx"
          ]
        }
      ]
    },
    {
      "cell_type": "code",
      "source": [
        "inp=input()\n",
        "new=''\n",
        "for i in inp:\n",
        "  if i not in new:\n",
        "    new=new+i\n",
        "print(new)    "
      ],
      "metadata": {
        "id": "RlxQE6BFCCR-"
      },
      "execution_count": null,
      "outputs": []
    },
    {
      "cell_type": "code",
      "source": [
        "inp=input()\n",
        "new=''\n",
        "len1=len(inp)\n",
        "for i in range(len1):\n",
        "  if i%2==0:\n",
        "    pass\n",
        "  else:\n",
        "    convert=chr(ord(inp[i])-32)\n",
        "    new=new+convert\n",
        "print(new)    \n"
      ],
      "metadata": {
        "id": "3dTNFk2uCCT2",
        "colab": {
          "base_uri": "https://localhost:8080/"
        },
        "outputId": "2695784d-8c7b-4e3c-cce7-1ec130c27237"
      },
      "execution_count": null,
      "outputs": [
        {
          "output_type": "stream",
          "name": "stdout",
          "text": [
            "string\n",
            "TIG\n"
          ]
        }
      ]
    },
    {
      "cell_type": "code",
      "source": [
        "inp=input()\n",
        "new=''\n",
        "len1=len(inp)\n",
        "\n",
        "for i in inp:\n",
        "  if i not in new:\n",
        "    new=new+i\n",
        "print(new)    "
      ],
      "metadata": {
        "id": "K7LOlw_QCCWV",
        "colab": {
          "base_uri": "https://localhost:8080/"
        },
        "outputId": "d81d001b-440e-4a4e-c432-c31c44e28b7e"
      },
      "execution_count": null,
      "outputs": [
        {
          "output_type": "stream",
          "name": "stdout",
          "text": [
            "AAABBBBCDDBBECE\n",
            "ABCDE\n"
          ]
        }
      ]
    },
    {
      "cell_type": "code",
      "source": [
        "9\n",
        "letter=input('enter word:')\n",
        "\n",
        "\n",
        "\n",
        "s=''                                   #imp**\n",
        "for i in letter:\n",
        "    if s=='' or i!= s[len(s)-1]:\n",
        "        s=s+i\n",
        "print(s)   "
      ],
      "metadata": {
        "colab": {
          "base_uri": "https://localhost:8080/"
        },
        "id": "l6IZCj7MaBH4",
        "outputId": "c4c47b1e-ee4c-4525-e94a-70a8542bfe8b"
      },
      "execution_count": null,
      "outputs": [
        {
          "output_type": "stream",
          "name": "stdout",
          "text": [
            "enter word:AAABBBBCDDBBECE\n",
            "ABCDBECE\n"
          ]
        }
      ]
    },
    {
      "cell_type": "code",
      "source": [
        "newlist=[]\n",
        "for i in range(5):\n",
        "  inp=int(input())\n",
        "  newlist.append(inp)\n",
        "  print(newlist)\n"
      ],
      "metadata": {
        "id": "iEWYv4kEgTQ8",
        "colab": {
          "base_uri": "https://localhost:8080/"
        },
        "outputId": "614c86d4-d9c5-49ad-a3d7-4eec4da45af4"
      },
      "execution_count": null,
      "outputs": [
        {
          "output_type": "stream",
          "name": "stdout",
          "text": [
            "3\n",
            "[3]\n",
            "5\n",
            "[3, 5]\n",
            "34\n",
            "[3, 5, 34]\n",
            "-11\n",
            "[3, 5, 34, -11]\n",
            "0\n",
            "[3, 5, 34, -11, 0]\n"
          ]
        }
      ]
    },
    {
      "cell_type": "code",
      "source": [
        "inp=input()\n",
        "newlist=inp.split(',')\n",
        "length=len(newlist)\n",
        "\n",
        "for i in range (length):\n",
        "  if length>3:\n",
        "     x= newlist[2:length-2]\n",
        "                                                         #imp***\n",
        "  else:\n",
        "      x='not possible'\n",
        "for j in range(0,len(x)):\n",
        "  x[j]=int(x[j])      \n",
        "      \n",
        "print(x)    "
      ],
      "metadata": {
        "id": "iMW_RwFDgSDs",
        "colab": {
          "base_uri": "https://localhost:8080/"
        },
        "outputId": "4dc239aa-207c-4f44-ecc7-ed3bb3976d5b"
      },
      "execution_count": null,
      "outputs": [
        {
          "output_type": "stream",
          "name": "stdout",
          "text": [
            "[3, 5, 34, -11, 0]\n",
            "[34]\n"
          ]
        }
      ]
    },
    {
      "cell_type": "code",
      "source": [
        "newlist=[]\n",
        "for i in range(5):\n",
        "  inp=int(input())\n",
        "  newlist.append(inp)\n",
        "print(newlist)\n",
        "rev=newlist[-1::-1]\n",
        "\n",
        "for i in rev:\n",
        "  print(i)"
      ],
      "metadata": {
        "colab": {
          "base_uri": "https://localhost:8080/"
        },
        "id": "-qzdVH0dkU0s",
        "outputId": "3a86ef42-324e-4e95-919e-18c6583243e3"
      },
      "execution_count": null,
      "outputs": [
        {
          "output_type": "stream",
          "name": "stdout",
          "text": [
            "1\n",
            "2\n",
            "3\n",
            "4\n",
            "5\n",
            "[1, 2, 3, 4, 5]\n",
            "5\n",
            "4\n",
            "3\n",
            "2\n",
            "1\n"
          ]
        }
      ]
    },
    {
      "cell_type": "code",
      "source": [
        "inp=int(input('total num:'))\n",
        "l1=[]\n",
        "m1=[]\n",
        "for i in range(inp):\n",
        "  inp1=int(input())\n",
        "  l1.append(inp1)\n",
        "print(l1)\n",
        "for i in l1:\n",
        "  m1.append(i**2)\n",
        "print(m1)\n"
      ],
      "metadata": {
        "colab": {
          "base_uri": "https://localhost:8080/"
        },
        "id": "gtay6xhBoOpu",
        "outputId": "f30084f2-fb26-4e5c-c1dc-55ac1d1cd6d2"
      },
      "execution_count": null,
      "outputs": [
        {
          "output_type": "stream",
          "name": "stdout",
          "text": [
            "total num:4\n",
            "3\n",
            "5\n",
            "1\n",
            "6\n",
            "[3, 5, 1, 6]\n",
            "[9, 25, 1, 36]\n"
          ]
        }
      ]
    },
    {
      "cell_type": "code",
      "source": [
        "givenlist=[\"hey\", \"there\", \"\", \"what's\", \"\", \"up\", \"\", \"?\"]\n",
        "\n",
        "newlist=[]\n",
        "for i in givenlist:\n",
        "  if i!= \"\":\n",
        "    newlist.append(i)                  #rev****\n",
        "print(newlist)    \n"
      ],
      "metadata": {
        "colab": {
          "base_uri": "https://localhost:8080/"
        },
        "id": "UrLU3jWrmLHO",
        "outputId": "ec1912d4-aaea-4f0b-bd8f-1ae8512cc1d6"
      },
      "execution_count": null,
      "outputs": [
        {
          "output_type": "stream",
          "name": "stdout",
          "text": [
            "['hey', 'there', \"what's\", 'up', '?']\n"
          ]
        }
      ]
    },
    {
      "cell_type": "code",
      "source": [
        "list_1 = [1, 4, 7, 5]\n",
        "list_2 = [6, 1, 3, 9]\n",
        "\n",
        "res = list_1[:-1:] + list_2\n",
        "print(res)"
      ],
      "metadata": {
        "colab": {
          "base_uri": "https://localhost:8080/"
        },
        "id": "0_x0hkunmxNL",
        "outputId": "91e1e4e5-66f3-40c9-cde7-5a0d8fd18481"
      },
      "execution_count": null,
      "outputs": [
        {
          "output_type": "stream",
          "name": "stdout",
          "text": [
            "[1, 4, 7, 5, 6, 1, 3, 9]\n"
          ]
        }
      ]
    },
    {
      "cell_type": "code",
      "source": [
        "list_one = [1, 2, 3, 4, 5, 6, 7, 8, 9]\n",
        "list_two = [10, 11, 12, -13, -14, -15, -16]\n",
        "final=[]\n",
        "\n",
        "for i in list_one:\n",
        "  if i%2==0:\n",
        "    final.append(i)\n",
        "for i in list_two:\n",
        "  if i%2==0:\n",
        "    final.append(i)    \n",
        "print(final)     "
      ],
      "metadata": {
        "colab": {
          "base_uri": "https://localhost:8080/"
        },
        "id": "8U1I8-znmxPr",
        "outputId": "a5d0bd2d-ed91-43e2-fc14-a638ae76f3d6"
      },
      "execution_count": null,
      "outputs": [
        {
          "output_type": "stream",
          "name": "stdout",
          "text": [
            "[2, 4, 6, 8, 10, 12, -14, -16]\n"
          ]
        }
      ]
    },
    {
      "cell_type": "code",
      "source": [
        "n=input()\n",
        "list1=[]\n",
        "new_list=[]\n",
        "length=len(n)  \n",
        "for i in n:\n",
        "  if i==' ' or i==\",\":\n",
        "    pass                                            #inp**\n",
        "  else:\n",
        "    list1.append(int(i))  \n",
        "for i in list1:\n",
        "    \n",
        "    if i not in new_list:\n",
        "        new_list.append(i)\n",
        "print(new_list)    "
      ],
      "metadata": {
        "colab": {
          "base_uri": "https://localhost:8080/"
        },
        "id": "Vg_Nv_hymxRn",
        "outputId": "58ea9efb-7dcf-4b7c-b9dd-eaef811548d2"
      },
      "execution_count": null,
      "outputs": [
        {
          "output_type": "stream",
          "name": "stdout",
          "text": [
            "0, 0, 1, 2, 3, 4, 4, 5, 6, 6, 6, 7, 8, 9, 4, 4\n",
            "[0, 1, 2, 3, 4, 5, 6, 7, 8, 9]\n"
          ]
        }
      ]
    },
    {
      "cell_type": "code",
      "source": [
        "list_one = [1, 4, 3, 2, 6]\n",
        "list_two = [5, 6, 9, 8, 7]\n",
        "m=0    \n",
        "for i in list_one:\n",
        "    if i in list_two:\n",
        "        m+=1\n",
        "    else:\n",
        "        m=0\n",
        "if m==0:\n",
        "    print(\"False\")\n",
        "else:\n",
        "    print(\"True\")"
      ],
      "metadata": {
        "colab": {
          "base_uri": "https://localhost:8080/"
        },
        "id": "aUH6Kb8rmxVM",
        "outputId": "8880e4ab-affc-4b6a-b533-47954c2270ad"
      },
      "execution_count": null,
      "outputs": [
        {
          "output_type": "stream",
          "name": "stdout",
          "text": [
            "True\n"
          ]
        }
      ]
    },
    {
      "cell_type": "code",
      "source": [
        "a_tuple = (\"The Institute\", (\"Best Mystery & Thriller\", \"The Silent Patient\", 68821), 75717,\n",
        "[1, 2, 3, 400, 5, 6, 7], (\"Best Fiction\", \"The Testaments\", 98291))\n",
        "\n",
        "print(a_tuple[3][3])"
      ],
      "metadata": {
        "colab": {
          "base_uri": "https://localhost:8080/"
        },
        "id": "ZIZb2AREmxXT",
        "outputId": "bac5a575-3d92-4337-f4c8-e1a0ac70f53d"
      },
      "execution_count": null,
      "outputs": [
        {
          "output_type": "stream",
          "name": "stdout",
          "text": [
            "400\n"
          ]
        }
      ]
    },
    {
      "cell_type": "code",
      "source": [
        "gtuple=(10, 20, 24, 25, 26, 35, 70)\n",
        "len1=len(gtuple)\n",
        "print(gtuple[2:len1-2])"
      ],
      "metadata": {
        "colab": {
          "base_uri": "https://localhost:8080/"
        },
        "id": "i4X7Rz2pmxb2",
        "outputId": "d862c834-5df8-4f44-de35-c981f676bb12"
      },
      "execution_count": null,
      "outputs": [
        {
          "output_type": "stream",
          "name": "stdout",
          "text": [
            "(24, 25, 26)\n"
          ]
        }
      ]
    },
    {
      "cell_type": "code",
      "source": [
        "book_info = (\n",
        "(\"Best Mystery & Thriller\",\"The Silent Patient\",68,821),\n",
        "(\"Best Horror\",\"The Institute\",75,717),\n",
        "(\"Best History & Biography\",\"The five\",31,783 ),\n",
        "(\"Best Fiction\",\"The Testaments\",98,291)\n",
        ")\n",
        "print(len(book_info))\n",
        "for i in book_info:\n",
        "  print(i)\n"
      ],
      "metadata": {
        "colab": {
          "base_uri": "https://localhost:8080/"
        },
        "id": "iLXia6Ejmxd7",
        "outputId": "dab99aaf-6ceb-4bb1-af42-a70cf64ea314"
      },
      "execution_count": null,
      "outputs": [
        {
          "output_type": "stream",
          "name": "stdout",
          "text": [
            "4\n",
            "('Best Mystery & Thriller', 'The Silent Patient', 68, 821)\n",
            "('Best Horror', 'The Institute', 75, 717)\n",
            "('Best History & Biography', 'The five', 31, 783)\n",
            "('Best Fiction', 'The Testaments', 98, 291)\n"
          ]
        }
      ]
    },
    {
      "cell_type": "code",
      "source": [
        "book_info = (\n",
        "(\"Best Mystery & Thriller\",\"The Silent Patient\",68821),\n",
        "(\"Best Horror\",\"The Institute\",75717),\n",
        "(\"Best History & Biography\",\"The five\",31783 ),\n",
        "(\"Best Fiction\",\"The Testaments\",98291)\n",
        ") \n",
        "                                                         #imp***\n",
        "len1=len(book_info)\n",
        "\n",
        "for i in range(len1):\n",
        "  print('{} won the \"{}\" catagory with {} votes.'.format(book_info[i][1],book_info[i][0], book_info[i][2]))"
      ],
      "metadata": {
        "colab": {
          "base_uri": "https://localhost:8080/"
        },
        "id": "rRVXyUxamxgL",
        "outputId": "12d6c431-f776-45db-cf7b-796734423803"
      },
      "execution_count": null,
      "outputs": [
        {
          "output_type": "stream",
          "name": "stdout",
          "text": [
            "The Silent Patient won the \"Best Mystery & Thriller\" catagory with 68821 votes.\n",
            "The Institute won the \"Best Horror\" catagory with 75717 votes.\n",
            "The five won the \"Best History & Biography\" catagory with 31783 votes.\n",
            "The Testaments won the \"Best Fiction\" catagory with 98291 votes.\n"
          ]
        }
      ]
    },
    {
      "cell_type": "code",
      "source": [
        "Giventuple=(10, 8, 5, 2, 10, 15, 10, 8, 5, 8, 8, 2)\n",
        "inp=int(input())\n",
        "count=0\n",
        "for i in Giventuple:\n",
        "  if i==inp:\n",
        "    count+=1\n",
        "print(count)    "
      ],
      "metadata": {
        "colab": {
          "base_uri": "https://localhost:8080/"
        },
        "id": "vtmIvgHMmxjz",
        "outputId": "4b238058-15a2-4dfa-8472-1c9ee38edb2f"
      },
      "execution_count": null,
      "outputs": [
        {
          "output_type": "stream",
          "name": "stdout",
          "text": [
            "8\n",
            "4\n"
          ]
        }
      ]
    },
    {
      "cell_type": "code",
      "source": [
        "Giventuple=('a', 'b', 'c', 'd', 'e', 'f', 'g', 'h')\n",
        "list1=list(Giventuple)\n",
        "rev=list1[-1::-1]\n",
        "tup=tuple(rev)\n",
        "print(tup)\n"
      ],
      "metadata": {
        "colab": {
          "base_uri": "https://localhost:8080/"
        },
        "id": "2-Ulbnxwmxmb",
        "outputId": "9901430d-b9e4-4f34-e2ea-ab795fa35f50"
      },
      "execution_count": null,
      "outputs": [
        {
          "output_type": "stream",
          "name": "stdout",
          "text": [
            "('h', 'g', 'f', 'e', 'd', 'c', 'b', 'a')\n"
          ]
        }
      ]
    },
    {
      "cell_type": "code",
      "source": [
        "d1={'Harry':15, 'Draco':8, 'Nevil':19}\n",
        "d2={'Ginie':18, 'Luna': 14}\n",
        "d3={'Harry':15, 'Draco':8, 'Nevil':19}\n",
        "\n",
        "d1.update(d2)\n",
        "print()"
      ],
      "metadata": {
        "id": "WqS5KGbPmxo7"
      },
      "execution_count": null,
      "outputs": []
    },
    {
      "cell_type": "code",
      "source": [
        "d1={'Jon': 100, 'Dan':200, 'Rob':30, 'Ned':110}\n",
        "\n",
        "sum=0\n",
        "count=0\n",
        "for values in d1.values():\n",
        "  sum=sum+values\n",
        "  count=count+1\n",
        "print(sum/count)  "
      ],
      "metadata": {
        "id": "FZnAjXfmmxrU",
        "colab": {
          "base_uri": "https://localhost:8080/"
        },
        "outputId": "4766e260-9761-48ab-8c2f-7164ae55ffa0"
      },
      "execution_count": null,
      "outputs": [
        {
          "output_type": "stream",
          "name": "stdout",
          "text": [
            "110.0\n"
          ]
        }
      ]
    },
    {
      "cell_type": "code",
      "source": [
        "exam_marks= {'Cierra Vega': 175, 'Alden Cantrell': 200, 'Kierra Gentry': 165, 'Pierre Cox': 190}\n",
        "inp=int(input())\n",
        "new={}\n",
        "for key,value in exam_marks.items():\n",
        "  if value>inp:\n",
        "    new[key]=value\n",
        "print(new)    \n",
        "\n"
      ],
      "metadata": {
        "colab": {
          "base_uri": "https://localhost:8080/"
        },
        "id": "L0nYjZrFaR8P",
        "outputId": "58db0c50-d1d4-4a1e-cf19-e0f7659abeb7"
      },
      "execution_count": null,
      "outputs": [
        {
          "output_type": "stream",
          "name": "stdout",
          "text": [
            "170\n",
            "{'Cierra Vega': 175, 'Alden Cantrell': 200, 'Pierre Cox': 190}\n"
          ]
        }
      ]
    },
    {
      "cell_type": "code",
      "source": [
        "dic={'sci fi': 12, 'mystery': 15, 'horror': 8, 'mythology': 10, 'young_adult': 4, 'adventure':14}\n",
        "max=0\n",
        "gen={}\n",
        "for key,value in dic.items():\n",
        "  if value>max:\n",
        "    max=value\n",
        "    gen=key\n",
        "print(max,gen)    "
      ],
      "metadata": {
        "colab": {
          "base_uri": "https://localhost:8080/"
        },
        "id": "jnT-9CYjcYoN",
        "outputId": "911b620b-c7e1-47f7-ade4-cf6fd9bed651"
      },
      "execution_count": null,
      "outputs": [
        {
          "output_type": "stream",
          "name": "stdout",
          "text": [
            "15 mystery\n"
          ]
        }
      ]
    },
    {
      "cell_type": "code",
      "source": [
        "inp='python programming is fun'\n",
        "nword=''\n",
        "for i in inp:\n",
        "   if i!=' ':\n",
        "     nword=nword+i\n",
        "newdic={}\n",
        "\n",
        "for i in nword:\n",
        "  if i not in newdic:\n",
        "    newdic[i]=1\n",
        "  else:\n",
        "    newdic[i]+=1\n",
        "print(newdic)       "
      ],
      "metadata": {
        "id": "JSRgZrjccYqs",
        "colab": {
          "base_uri": "https://localhost:8080/"
        },
        "outputId": "c0c02742-e9be-4b63-a225-f6cc65620a59"
      },
      "execution_count": null,
      "outputs": [
        {
          "output_type": "stream",
          "name": "stdout",
          "text": [
            "{'p': 2, 'y': 1, 't': 1, 'h': 1, 'o': 2, 'n': 3, 'r': 2, 'g': 2, 'a': 1, 'm': 2, 'i': 2, 's': 1, 'f': 1, 'u': 1}\n"
          ]
        }
      ]
    },
    {
      "cell_type": "code",
      "source": [
        "dict_1 = {'A': [1, 2, 3], 'b': ['1', '2'], \"c\": [4, 5, 6, 7]}\n",
        "sum=0\n",
        "\n",
        "for value in dict_1.values():\n",
        "  for i in value:\n",
        "     sum=sum+1\n",
        "\n",
        "print(sum)\n"
      ],
      "metadata": {
        "id": "QmVrP-iEcYs0",
        "colab": {
          "base_uri": "https://localhost:8080/"
        },
        "outputId": "df864ffb-d288-46cb-94f7-641fc3f986a4"
      },
      "execution_count": null,
      "outputs": [
        {
          "output_type": "stream",
          "name": "stdout",
          "text": [
            "9\n"
          ]
        }
      ]
    },
    {
      "cell_type": "code",
      "source": [
        "list_1 = [(\"a\", 1), (\"b\", 2), (\"a\", 3), (\"b\", 1), (\"a\", 2), (\"c\", 1)]\n",
        "\n",
        "list_a=[]\n",
        "list_b=[]\n",
        "list_c=[]\n",
        "\n",
        "for i in list_1:\n",
        "  if i[0]=='a':\n",
        "    list_a.append(i[1])\n",
        "  elif i[0]=='b':                               #imp**\n",
        "    list_b.append(i[1]) \n",
        "  elif i[0]=='c':\n",
        "    list_c.append(i[1])  \n",
        "\n",
        "new_dict={'a':list_a,'b':list_b,'c':list_c}\n",
        "print(new_dict) \n"
      ],
      "metadata": {
        "id": "CGC_pGyVcYud"
      },
      "execution_count": null,
      "outputs": []
    },
    {
      "cell_type": "code",
      "source": [
        "def even_cheaker(inp):\n",
        "  inp=int(input())\n",
        "  \n",
        "  if inp%2==0:\n",
        "    print('Even')\n",
        "  else:\n",
        "    print('odd')  \n",
        "even_cheaker(inp)    "
      ],
      "metadata": {
        "id": "vg9DpqaCcYyI",
        "colab": {
          "base_uri": "https://localhost:8080/"
        },
        "outputId": "d00c41f7-e807-4103-df71-d636803db353"
      },
      "execution_count": null,
      "outputs": [
        {
          "output_type": "stream",
          "name": "stdout",
          "text": [
            "9\n",
            "odd\n"
          ]
        }
      ]
    },
    {
      "cell_type": "code",
      "source": [
        "def fibonacci(inp):\n",
        "  inp=int(input())\n",
        "  a=0\n",
        "  b=1\n",
        "  print(a,b,end=' ')\n",
        "  while(a+b)<=inp:\n",
        "    c=a+b\n",
        "    print(c,end=' ')\n",
        "    a=b\n",
        "    b=c\n",
        "\n",
        "\n",
        "fibonacci(inp)\n"
      ],
      "metadata": {
        "id": "c0TaPLKCcYzu",
        "colab": {
          "base_uri": "https://localhost:8080/"
        },
        "outputId": "cf48195c-5532-41a7-cf53-887011bdd257"
      },
      "execution_count": null,
      "outputs": [
        {
          "output_type": "stream",
          "name": "stdout",
          "text": [
            "10\n",
            "0 1 1 2 3 5 8 "
          ]
        }
      ]
    },
    {
      "cell_type": "code",
      "source": [
        "inp=int(input('Enter:'))\n",
        "def foo_moo(inp):\n",
        "\n",
        "  if inp%2==0:\n",
        "    print('Foo')\n",
        "  elif inp%3==0:\n",
        "    print(\"Moo\") \n",
        "  elif inp%2==0 and  inp%3==0 :\n",
        "    print(\"FooMoo\")\n",
        "  else:\n",
        "    print('Boo')\n",
        "\n",
        "foo_moo(inp)"
      ],
      "metadata": {
        "id": "dQe-D-pwcY1M"
      },
      "execution_count": null,
      "outputs": []
    },
    {
      "cell_type": "code",
      "source": [
        "\n",
        "def function_name(inp):\n",
        "  u=0\n",
        "  inp=input()\n",
        "  for i in inp:\n",
        "     if i.isupper():\n",
        "      u=u+1\n",
        " \n",
        "  print(u)    \n",
        "function_name(inp)\n",
        "\n"
      ],
      "metadata": {
        "id": "iu9TAehmcY3e",
        "colab": {
          "base_uri": "https://localhost:8080/"
        },
        "outputId": "6541562a-0c04-4792-cebf-e2e55f79a024"
      },
      "execution_count": null,
      "outputs": [
        {
          "output_type": "stream",
          "name": "stdout",
          "text": [
            "The quick Sand Man\n",
            "3\n"
          ]
        }
      ]
    },
    {
      "cell_type": "code",
      "source": [
        "age=int(input('Enter age:'))\n",
        "salary=float(input('enter salary:'))\n",
        "designation=input('Enter designation:')\n",
        "\n",
        "def calculate_tax(age,salary,designation):\n",
        "  tax=0\n",
        "  if age<18 or designation == 'president' or salary<10000 :\n",
        "      tax=0\n",
        "  elif salary>=10000 and salary<=20000:\n",
        "      tax=salary*(5/100)\n",
        "  elif salary>20000:\n",
        "      tax=salary*(10/100)   \n",
        "  return tax \n",
        "\n",
        "calculate_tax(age,salary,designation)"
      ],
      "metadata": {
        "id": "yL55uibacY61"
      },
      "execution_count": null,
      "outputs": []
    },
    {
      "cell_type": "code",
      "source": [
        "inp=int(input('Enter:'))\n",
        "def number_of_days(inp):\n",
        "  years=inp//365\n",
        "  rem=inp%365\n",
        "  month=rem//30\n",
        "  days=rem%30\n",
        "\n",
        "  print(years,'years',month,'months',days,'days')\n",
        "number_of_days(inp)\n"
      ],
      "metadata": {
        "id": "N3re1dXOcY88"
      },
      "execution_count": null,
      "outputs": []
    },
    {
      "cell_type": "code",
      "source": [
        "def show_palindrome(inp):\n",
        "  inp=int(input())\n",
        "\n",
        "  for i in range(1,inp+1):\n",
        "    a=print(i,end='')\n",
        "  for i in range(inp-1,0,-1) :\n",
        "    b=print(i,end='')\n",
        "\n",
        "show_palindrome(inp\n",
        "                ) \n"
      ],
      "metadata": {
        "id": "Gikhf5FbcZA1",
        "colab": {
          "base_uri": "https://localhost:8080/"
        },
        "outputId": "1ea5fe6a-f933-4ccc-eaec-ba3fc2990b43"
      },
      "execution_count": null,
      "outputs": [
        {
          "output_type": "stream",
          "name": "stdout",
          "text": [
            "5\n",
            "123454321"
          ]
        }
      ]
    },
    {
      "cell_type": "code",
      "source": [
        "\n",
        "def area_circumference_generator(r):\n",
        "  import math\n",
        "  x= 2 * math.pi * r\n",
        "  y= math.pi * r**2\n",
        "  a= (y,x) \n",
        "  return a \n",
        "n= area_circumference_generator(2.5) \n",
        "#area_circumference_generator(2.5) \n",
        "print(n)\n",
        "b,c= n\n",
        "print(f\"Area of the circle is {b} and circumference is {c}\") \n"
      ],
      "metadata": {
        "id": "9r4m2MitcZDl"
      },
      "execution_count": null,
      "outputs": []
    },
    {
      "cell_type": "code",
      "source": [
        "def make_square(a_tuple):\n",
        "  start,end=a_tuple\n",
        "  a_dict={}\n",
        "\n",
        "  for i in range(start,end+1):\n",
        "    key=i\n",
        "    value=i**2\n",
        "    a_dict[key]=value\n",
        "  return a_dict\n",
        "\n",
        "make_square((1,3))"
      ],
      "metadata": {
        "id": "cf7VribM51Xu"
      },
      "execution_count": null,
      "outputs": []
    },
    {
      "cell_type": "code",
      "source": [
        "def rem_duplicate(b_tuple):\n",
        "  a_list=list(b_tuple)\n",
        "  new_list=[]\n",
        "\n",
        "  for i  in a_list:\n",
        "    if i not in new_list:\n",
        "      new_list.append(i)\n",
        "\n",
        "  new_tuple=tuple(new_list)\n",
        "  return new_tuple\n",
        "rem_duplicate((1,1,1,1,2,2,2,2,2,3,3,3,3,3,4,4,4,4,4))"
      ],
      "metadata": {
        "id": "H3FZPMpp51Z9"
      },
      "execution_count": null,
      "outputs": []
    },
    {
      "cell_type": "code",
      "source": [
        "def function_name(a_list):\n",
        "\n",
        "  new_list=[]\n",
        "  for i in a_list:\n",
        "    if new_list.count(i)<2:\n",
        "      new_list.append(i)                      #imp***\n",
        "  return new_list     \n",
        "\n",
        "function_name([1, 2, 3, 3, 3, 3, 4, 5, 8, 8])"
      ],
      "metadata": {
        "id": "34sYds3_51cb"
      },
      "execution_count": null,
      "outputs": []
    },
    {
      "cell_type": "code",
      "source": [
        "operator=input(\"op:\") \n",
        "first_num=int(input())\n",
        "second_num=int(input())\n",
        "\n",
        "def function_name(operator,first_num,Second_num):\n",
        "  if operator=='+':\n",
        "    result= first_num + second_num\n",
        "    return result\n",
        "  elif operator=='-':\n",
        "     result= first_num - second_num\n",
        "     return result   \n",
        "  elif operator=='*':\n",
        "     result= first_num * second_num\n",
        "     return result\n",
        "  elif operator=='/':\n",
        "     result= first_num / second_num\n",
        "     return result\n",
        "\n",
        "function_name(operator,first_num,second_num)    "
      ],
      "metadata": {
        "id": "RD0VIQqQ51eX"
      },
      "execution_count": null,
      "outputs": []
    },
    {
      "cell_type": "code",
      "source": [
        "def function_name(words,pos):\n",
        "  new_word=''\n",
        "  first = words[0]\n",
        "  extra_word=''\n",
        "  final_word=''\n",
        "\n",
        "  for i in range(1,len(words)):\n",
        "    if i%pos !=0:\n",
        "      new_word=new_word+words[i]                    #imp*****\n",
        "    else:\n",
        "      extra_word=extra_word+words[i]\n",
        "  final_word=first+new_word + extra_word\n",
        "  return final_word\n",
        "\n",
        "\n",
        "output=function_name(\"I love programming.\",3)\n",
        "print(output)"
      ],
      "metadata": {
        "id": "sTIts6zl51gW"
      },
      "execution_count": null,
      "outputs": []
    }
  ]
}